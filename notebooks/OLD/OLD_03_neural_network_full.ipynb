{
 "cells": [
  {
   "cell_type": "markdown",
   "id": "2e884234",
   "metadata": {},
   "source": "# Neural Network: Predicting Heart Disease"
  },
  {
   "cell_type": "code",
   "id": "2ab4bfc8",
   "metadata": {
    "ExecuteTime": {
     "end_time": "2025-04-06T19:59:54.052944Z",
     "start_time": "2025-04-06T19:59:53.361606Z"
    }
   },
   "source": [
    "import pandas as pd\n",
    "import torch\n",
    "import torch.nn as nn\n",
    "import torch.optim as optim\n",
    "from sklearn.model_selection import train_test_split\n",
    "from sklearn.preprocessing import StandardScaler\n",
    "from sklearn.metrics import accuracy_score\n",
    "import matplotlib.pyplot as plt\n",
    "import os\n"
   ],
   "outputs": [],
   "execution_count": 1
  },
  {
   "cell_type": "markdown",
   "id": "34bbf075",
   "metadata": {},
   "source": "## Load and Prepare Data"
  },
  {
   "cell_type": "code",
   "id": "7ee2c523",
   "metadata": {
    "ExecuteTime": {
     "end_time": "2025-04-06T19:59:56.254836Z",
     "start_time": "2025-04-06T19:59:56.246798Z"
    }
   },
   "source": [
    "df = pd.read_csv(\"../../data/processed/cleaned_framingham.csv\")\n",
    "X = df.drop(columns=\"TenYearCHD\")\n",
    "y = df[\"TenYearCHD\"]\n"
   ],
   "outputs": [],
   "execution_count": 2
  },
  {
   "cell_type": "code",
   "id": "f91497aa",
   "metadata": {
    "ExecuteTime": {
     "end_time": "2025-04-06T19:59:58.294775Z",
     "start_time": "2025-04-06T19:59:58.288557Z"
    }
   },
   "source": [
    "X_train, X_test, y_train, y_test = train_test_split(X, y, test_size=0.2, random_state=42)\n",
    "scaler = StandardScaler()\n",
    "X_train = scaler.fit_transform(X_train)\n",
    "X_test = scaler.transform(X_test)\n"
   ],
   "outputs": [],
   "execution_count": 3
  },
  {
   "cell_type": "code",
   "id": "dbc2b1d3",
   "metadata": {
    "ExecuteTime": {
     "end_time": "2025-04-06T19:59:59.772575Z",
     "start_time": "2025-04-06T19:59:59.768338Z"
    }
   },
   "source": [
    "X_train_tensor = torch.tensor(X_train, dtype=torch.float32)\n",
    "y_train_tensor = torch.tensor(y_train.values, dtype=torch.float32).view(-1, 1)\n",
    "X_test_tensor = torch.tensor(X_test, dtype=torch.float32)\n",
    "y_test_tensor = torch.tensor(y_test.values, dtype=torch.float32).view(-1, 1)\n"
   ],
   "outputs": [],
   "execution_count": 4
  },
  {
   "cell_type": "markdown",
   "id": "3c095363",
   "metadata": {},
   "source": "## Define Neural Network Model"
  },
  {
   "cell_type": "code",
   "id": "ce9000ad",
   "metadata": {
    "ExecuteTime": {
     "end_time": "2025-04-06T20:00:01.639978Z",
     "start_time": "2025-04-06T20:00:01.636953Z"
    }
   },
   "source": [
    "class SimpleNN(nn.Module):\n",
    "    def __init__(self, input_dim):\n",
    "        super(SimpleNN, self).__init__()\n",
    "        self.fc1 = nn.Linear(input_dim, 32)\n",
    "        self.relu = nn.ReLU()\n",
    "        self.fc2 = nn.Linear(32, 1)\n",
    "\n",
    "    def forward(self, x):\n",
    "        x = self.relu(self.fc1(x))\n",
    "        return self.fc2(x)\n"
   ],
   "outputs": [],
   "execution_count": 5
  },
  {
   "cell_type": "markdown",
   "id": "840befae",
   "metadata": {},
   "source": "## Train the Model"
  },
  {
   "cell_type": "code",
   "id": "298c46ff",
   "metadata": {
    "ExecuteTime": {
     "end_time": "2025-04-06T20:00:06.439060Z",
     "start_time": "2025-04-06T20:00:05.819655Z"
    }
   },
   "source": [
    "model = SimpleNN(X_train.shape[1])\n",
    "criterion = nn.BCEWithLogitsLoss()\n",
    "optimizer = optim.Adam(model.parameters(), lr=0.01)\n",
    "\n",
    "loss_history = []\n",
    "epochs = 100\n",
    "for epoch in range(epochs):\n",
    "    model.train()\n",
    "    outputs = model(X_train_tensor)\n",
    "    loss = criterion(outputs, y_train_tensor)\n",
    "    optimizer.zero_grad()\n",
    "    loss.backward()\n",
    "    optimizer.step()\n",
    "    loss_history.append(loss.item())\n",
    "\n",
    "    if epoch % 10 == 0:\n",
    "        print(f\"Epoch {epoch}: Loss = {loss.item():.4f}\")\n"
   ],
   "outputs": [
    {
     "name": "stdout",
     "output_type": "stream",
     "text": [
      "Epoch 0: Loss = 0.6294\n",
      "Epoch 10: Loss = 0.3995\n",
      "Epoch 20: Loss = 0.3865\n",
      "Epoch 30: Loss = 0.3744\n",
      "Epoch 40: Loss = 0.3680\n",
      "Epoch 50: Loss = 0.3638\n",
      "Epoch 60: Loss = 0.3602\n",
      "Epoch 70: Loss = 0.3571\n",
      "Epoch 80: Loss = 0.3543\n",
      "Epoch 90: Loss = 0.3516\n"
     ]
    }
   ],
   "execution_count": 6
  },
  {
   "cell_type": "markdown",
   "id": "a5999bc6",
   "metadata": {},
   "source": "## Evaluate the Model"
  },
  {
   "cell_type": "code",
   "id": "3d168799",
   "metadata": {
    "ExecuteTime": {
     "end_time": "2025-04-06T20:00:15.960800Z",
     "start_time": "2025-04-06T20:00:15.954684Z"
    }
   },
   "source": [
    "model.eval()\n",
    "with torch.no_grad():\n",
    "    predictions = torch.sigmoid(model(X_test_tensor)).round()\n",
    "    acc = accuracy_score(y_test_tensor.numpy(), predictions.numpy())\n",
    "    print(f\"Test Accuracy: {acc:.4f}\")\n"
   ],
   "outputs": [
    {
     "name": "stdout",
     "output_type": "stream",
     "text": [
      "Test Accuracy: 0.8347\n"
     ]
    }
   ],
   "execution_count": 7
  },
  {
   "cell_type": "code",
   "id": "04daa1a0",
   "metadata": {
    "ExecuteTime": {
     "end_time": "2025-04-06T20:00:17.976734Z",
     "start_time": "2025-04-06T20:00:17.973063Z"
    }
   },
   "source": [
    "os.makedirs(\"../../models\", exist_ok=True)\n",
    "torch.save(model.state_dict(), \"../models/full_nn_model.pt\")\n"
   ],
   "outputs": [],
   "execution_count": 8
  },
  {
   "cell_type": "code",
   "id": "378651fb",
   "metadata": {
    "ExecuteTime": {
     "end_time": "2025-04-06T20:00:20.007074Z",
     "start_time": "2025-04-06T20:00:19.859640Z"
    }
   },
   "source": [
    "plt.figure()\n",
    "plt.plot(loss_history)\n",
    "plt.title(\"Training Loss over Epochs\")\n",
    "plt.xlabel(\"Epoch\")\n",
    "plt.ylabel(\"Loss\")\n",
    "plt.grid(True)\n",
    "os.makedirs(\"../../results/figures\", exist_ok=True)\n",
    "plt.savefig(\"../results/figures/nn_training_loss.png\")\n",
    "plt.show()\n"
   ],
   "outputs": [
    {
     "data": {
      "text/plain": [
       "<Figure size 640x480 with 1 Axes>"
      ],
      "image/png": "[encoded data removed]"
     },
     "metadata": {},
     "output_type": "display_data"
    }
   ],
   "execution_count": 9
  },
  {
   "cell_type": "code",
   "id": "adeea49c",
   "metadata": {
    "ExecuteTime": {
     "end_time": "2025-04-06T20:00:25.579590Z",
     "start_time": "2025-04-06T20:00:25.571916Z"
    }
   },
   "source": [
    "pd.DataFrame({\n",
    "    \"Prediction\": predictions.numpy().flatten(),\n",
    "    \"Actual\": y_test_tensor.numpy().flatten()\n",
    "}).head()\n"
   ],
   "outputs": [
    {
     "data": {
      "text/plain": [
       "   Prediction  Actual\n",
       "0         0.0     0.0\n",
       "1         0.0     0.0\n",
       "2         0.0     0.0\n",
       "3         0.0     0.0\n",
       "4         0.0     0.0"
      ],
      "text/html": [
       "<div>\n",
       "<style scoped>\n",
       "    .dataframe tbody tr th:only-of-type {\n",
       "        vertical-align: middle;\n",
       "    }\n",
       "\n",
       "    .dataframe tbody tr th {\n",
       "        vertical-align: top;\n",
       "    }\n",
       "\n",
       "    .dataframe thead th {\n",
       "        text-align: right;\n",
       "    }\n",
       "</style>\n",
       "<table border=\"1\" class=\"dataframe\">\n",
       "  <thead>\n",
       "    <tr style=\"text-align: right;\">\n",
       "      <th></th>\n",
       "      <th>Prediction</th>\n",
       "      <th>Actual</th>\n",
       "    </tr>\n",
       "  </thead>\n",
       "  <tbody>\n",
       "    <tr>\n",
       "      <th>0</th>\n",
       "      <td>0.0</td>\n",
       "      <td>0.0</td>\n",
       "    </tr>\n",
       "    <tr>\n",
       "      <th>1</th>\n",
       "      <td>0.0</td>\n",
       "      <td>0.0</td>\n",
       "    </tr>\n",
       "    <tr>\n",
       "      <th>2</th>\n",
       "      <td>0.0</td>\n",
       "      <td>0.0</td>\n",
       "    </tr>\n",
       "    <tr>\n",
       "      <th>3</th>\n",
       "      <td>0.0</td>\n",
       "      <td>0.0</td>\n",
       "    </tr>\n",
       "    <tr>\n",
       "      <th>4</th>\n",
       "      <td>0.0</td>\n",
       "      <td>0.0</td>\n",
       "    </tr>\n",
       "  </tbody>\n",
       "</table>\n",
       "</div>"
      ]
     },
     "execution_count": 10,
     "metadata": {},
     "output_type": "execute_result"
    }
   ],
   "execution_count": 10
  }
 ],
 "metadata": {
  "kernelspec": {
   "name": "python3",
   "language": "python",
   "display_name": "Python 3 (ipykernel)"
  }
 },
 "nbformat": 4,
 "nbformat_minor": 5
}
