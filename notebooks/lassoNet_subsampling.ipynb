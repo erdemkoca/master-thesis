{
 "cells": [
  {
   "cell_type": "code",
   "id": "initial_id",
   "metadata": {
    "collapsed": true,
    "ExecuteTime": {
     "end_time": "2025-05-14T21:42:24.416292Z",
     "start_time": "2025-05-14T21:42:00.018443Z"
    }
   },
   "source": [
    "# --- 03_lasso_net_classifier_with_subsampling.ipynb ---\n",
    "\n",
    "import numpy as np\n",
    "import pandas as pd\n",
    "from lassonet import LassoNetClassifierCV\n",
    "from sklearn.metrics import accuracy_score, classification_report, confusion_matrix\n",
    "import matplotlib.pyplot as plt\n",
    "import seaborn as sns\n",
    "import joblib\n",
    "import os\n",
    "from sklearn.utils import resample\n",
    "\n",
    "# 1. Load preprocessed data\n",
    "print(\"Loading train/test splits...\")\n",
    "X_train = np.load(\"../data/splits/X_train.npy\")\n",
    "y_train = np.load(\"../data/splits/y_train.npy\")\n",
    "X_test = np.load(\"../data/splits/X_test.npy\")\n",
    "y_test = np.load(\"../data/splits/y_test.npy\")\n",
    "\n",
    "print(f\"X_train shape: {X_train.shape}\")\n",
    "print(f\"X_test shape: {X_test.shape}\\n\")\n",
    "\n",
    "# ==============================\n",
    "# Part 1: Sub-sampling the Majority Class\n",
    "# ==============================\n",
    "\n",
    "# Down-sample the majority class to balance the dataset\n",
    "X_minority = X_train[y_train == 1]\n",
    "y_minority = y_train[y_train == 1]\n",
    "\n",
    "X_majority = X_train[y_train == 0]\n",
    "y_majority = y_train[y_train == 0]\n",
    "\n",
    "# Down-sample majority class to match minority class\n",
    "X_majority_downsampled, y_majority_downsampled = resample(X_majority, y_majority,\n",
    "                                                          replace=False,\n",
    "                                                          n_samples=len(X_minority),\n",
    "                                                          random_state=42)\n",
    "\n",
    "# Combine minority class with downsampled majority class\n",
    "X_resampled = np.vstack((X_majority_downsampled, X_minority))\n",
    "y_resampled = np.hstack((y_majority_downsampled, y_minority))\n",
    "\n",
    "# ==============================\n",
    "# Part 2: Initialize and train the LassoNet model with Cross-validation\n",
    "# ==============================\n",
    "\n",
    "print(\"Setting up Grid Search for LassoNet with cross-validation...\")\n",
    "model = LassoNetClassifierCV()\n",
    "\n",
    "# Fit the model with cross-validation on the resampled training data\n",
    "model.fit(X_resampled, y_resampled)\n",
    "\n",
    "# Get the best lambda from cross-validation\n",
    "print(\"\\nBest Parameters (cross-validation):\")\n",
    "print(f\"Best Lambda: {model.best_lambda_}\")\n",
    "print(f\"Best Cross-Validated F1-Score: {model.best_cv_score_:.4f}\\n\")\n",
    "\n",
    "# 3. Evaluate the best model on the test set\n",
    "y_test_pred = model.predict(X_test)\n",
    "\n",
    "print(\"Test Set Results:\")\n",
    "print(f\"Accuracy: {accuracy_score(y_test, y_test_pred):.4f}\")\n",
    "print()\n",
    "print(\"Classification Report:\")\n",
    "print(classification_report(y_test, y_test_pred))\n",
    "\n",
    "# 4. Confusion Matrix for test set\n",
    "cm = confusion_matrix(y_test, y_test_pred)\n",
    "plt.figure(figsize=(6, 4))\n",
    "sns.heatmap(cm, annot=True, fmt=\"d\", cmap=\"Blues\")\n",
    "plt.xlabel(\"Predicted\")\n",
    "plt.ylabel(\"Actual\")\n",
    "plt.title(\"Test Set Confusion Matrix - LassoNet\")\n",
    "plt.show()\n",
    "\n",
    "# 5. Feature Importance (Selected Features)\n",
    "# The LassoNet model stores the selected features in the `best_selected_` attribute\n",
    "selected_features = model.best_selected_\n",
    "print(f\"Selected Features (LassoNet): {selected_features}\")\n",
    "\n",
    "# 6. Save the best model to disk\n",
    "os.makedirs(\"../models\", exist_ok=True)\n",
    "model_path = \"../models/lassonet_best_model_with_subsampling.pkl\"\n",
    "joblib.dump(model, model_path)\n",
    "print(f\"Best LassoNet model with subsampling saved to {model_path}\")\n",
    "\n",
    "# 7. Save GridSearch Results (Optional)\n",
    "# Note: Some LassoNet models may not expose `cv_results_`, so you may not be able to save them like scikit-learn.\n",
    "# results_df = pd.DataFrame(model.cv_results_)\n",
    "# results_df.to_csv(\"../results/lasso_gridsearch_results_subsampling.csv\", index=False)\n",
    "# print(\"Grid search results for subsampling saved to ../results/lasso_gridsearch_results_subsampling.csv\")"
   ],
   "outputs": [
    {
     "name": "stdout",
     "output_type": "stream",
     "text": [
      "Loading train/test splits...\n",
      "X_train shape: (3392, 15)\n",
      "X_test shape: (848, 15)\n",
      "\n",
      "Setting up Grid Search for LassoNet with cross-validation...\n"
     ]
    },
    {
     "name": "stderr",
     "output_type": "stream",
     "text": [
      "Choosing lambda with cross-validation: 100%|██████████| 5/5 [00:23<00:00,  4.77s/it]\n"
     ]
    },
    {
     "name": "stdout",
     "output_type": "stream",
     "text": [
      "\n",
      "Best Parameters (cross-validation):\n",
      "Best Lambda: 7.380418030888551\n",
      "Best Cross-Validated F1-Score: 0.4583\n",
      "\n",
      "Test Set Results:\n",
      "Accuracy: 0.6156\n",
      "\n",
      "Classification Report:\n",
      "              precision    recall  f1-score   support\n",
      "\n",
      "           0       0.91      0.60      0.73       719\n",
      "           1       0.24      0.68      0.35       129\n",
      "\n",
      "    accuracy                           0.62       848\n",
      "   macro avg       0.57      0.64      0.54       848\n",
      "weighted avg       0.81      0.62      0.67       848\n",
      "\n"
     ]
    },
    {
     "data": {
      "text/plain": [
       "<Figure size 600x400 with 2 Axes>"
      ],
      "image/png": "[encoded data removed]"
     },
     "metadata": {},
     "output_type": "display_data"
    },
    {
     "name": "stdout",
     "output_type": "stream",
     "text": [
      "Selected Features (LassoNet): tensor([True, True, True, True, True, True, True, True, True, True, True, True,\n",
      "        True, True, True])\n",
      "Best LassoNet model with subsampling saved to ../models/lassonet_best_model_with_subsampling.pkl\n"
     ]
    }
   ],
   "execution_count": 4
  },
  {
   "metadata": {},
   "cell_type": "code",
   "outputs": [],
   "execution_count": null,
   "source": "",
   "id": "e5c561949919476b"
  }
 ],
 "metadata": {
  "kernelspec": {
   "display_name": "Python 3",
   "language": "python",
   "name": "python3"
  },
  "language_info": {
   "codemirror_mode": {
    "name": "ipython",
    "version": 2
   },
   "file_extension": ".py",
   "mimetype": "text/x-python",
   "name": "python",
   "nbconvert_exporter": "python",
   "pygments_lexer": "ipython2",
   "version": "2.7.6"
  }
 },
 "nbformat": 4,
 "nbformat_minor": 5
}
