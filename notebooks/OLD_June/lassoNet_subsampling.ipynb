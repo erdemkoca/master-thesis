{
 "cells": [
  {
   "cell_type": "code",
   "id": "initial_id",
   "metadata": {
    "collapsed": true,
    "ExecuteTime": {
     "end_time": "2025-05-20T16:13:49.264152Z",
     "start_time": "2025-05-20T16:05:06.447296Z"
    }
   },
   "source": [
    "# --- 03_lasso_net_classifier_with_subsampling_repeated.ipynb ---\n",
    "\n",
    "import numpy as np\n",
    "import pandas as pd\n",
    "from lassonet import LassoNetClassifierCV\n",
    "from sklearn.metrics import accuracy_score, classification_report, confusion_matrix, f1_score\n",
    "import matplotlib.pyplot as plt\n",
    "import seaborn as sns\n",
    "import joblib\n",
    "import os\n",
    "from sklearn.utils import resample\n",
    "\n",
    "# 1. Load preprocessed data\n",
    "print(\"Loading train/test splits...\")\n",
    "X_train = np.load(\"../../data/splits/X_train.npy\")\n",
    "y_train = np.load(\"../../data/splits/y_train.npy\")\n",
    "X_test = np.load(\"../../data/splits/X_test.npy\")\n",
    "y_test = np.load(\"../../data/splits/y_test.npy\")\n",
    "\n",
    "print(f\"X_train shape: {X_train.shape}\")\n",
    "print(f\"X_test shape: {X_test.shape}\\n\")\n",
    "\n",
    "# 2. Repeated Subsampling and Training\n",
    "results_list = []\n",
    "all_models = []\n",
    "all_preds = []\n",
    "all_f1s = []\n",
    "\n",
    "for seed in range(20):\n",
    "    print(f\"--- Seed {seed} ---\")\n",
    "\n",
    "    # Subsampling\n",
    "    X_minority = X_train[y_train == 1]\n",
    "    y_minority = y_train[y_train == 1]\n",
    "    X_majority = X_train[y_train == 0]\n",
    "    y_majority = y_train[y_train == 0]\n",
    "\n",
    "    X_majority_downsampled, y_majority_downsampled = resample(\n",
    "        X_majority, y_majority,\n",
    "        replace=False,\n",
    "        n_samples=len(X_minority),\n",
    "        random_state=seed\n",
    "    )\n",
    "\n",
    "    X_resampled = np.vstack((X_majority_downsampled, X_minority))\n",
    "    y_resampled = np.hstack((y_majority_downsampled, y_minority))\n",
    "\n",
    "    model = LassoNetClassifierCV()\n",
    "    model.fit(X_resampled, y_resampled)\n",
    "\n",
    "    y_test_pred = model.predict(X_test)\n",
    "    f1 = f1_score(y_test, y_test_pred)\n",
    "\n",
    "    results_list.append({\n",
    "        'seed': seed,\n",
    "        'best_lambda': model.best_lambda_,\n",
    "        'best_cv_score': model.best_cv_score_,\n",
    "        'test_f1': f1\n",
    "    })\n",
    "\n",
    "    all_models.append(model)\n",
    "    all_preds.append(y_test_pred)\n",
    "    all_f1s.append(f1)\n",
    "\n",
    "# 3. Best Model Selection\n",
    "best_idx = np.argmax(all_f1s)\n",
    "final_model = all_models[best_idx]\n",
    "final_preds = all_preds[best_idx]\n",
    "final_result = results_list[best_idx]\n",
    "\n",
    "# 4. Report and Confusion Matrix\n",
    "print(\"\\n=== Best Model Summary ===\")\n",
    "print(f\"Seed: {final_result['seed']}\")\n",
    "print(f\"Best Lambda: {final_result['best_lambda']}\")\n",
    "print(f\"CV F1 Score: {final_result['best_cv_score']:.4f}\")\n",
    "print(f\"Test F1 Score: {final_result['test_f1']:.4f}\\n\")\n",
    "\n",
    "print(\"Classification Report (Best Seed):\")\n",
    "print(classification_report(y_test, final_preds))\n",
    "\n",
    "cm = confusion_matrix(y_test, final_preds)\n",
    "plt.figure(figsize=(6, 4))\n",
    "sns.heatmap(cm, annot=True, fmt=\"d\", cmap=\"Blues\")\n",
    "plt.xlabel(\"Predicted\")\n",
    "plt.ylabel(\"Actual\")\n",
    "plt.title(\"Confusion Matrix - LassoNet (Best F1 from Repeats)\")\n",
    "plt.show()\n",
    "\n",
    "# 5. Selected Features\n",
    "print(f\"Selected Features (Best Model): {final_model.best_selected_}\")\n",
    "\n",
    "# 6. Save Best Model\n",
    "os.makedirs(\"../../models\", exist_ok=True)\n",
    "best_model_path = f\"../models/lassonet_best_model_seed_{final_result['seed']}.pkl\"\n",
    "joblib.dump(final_model, best_model_path)\n",
    "print(f\"Saved best model to {best_model_path}\")\n",
    "\n",
    "# 7. Save Results Table\n",
    "results_df = pd.DataFrame(results_list)\n",
    "os.makedirs(\"../../results\", exist_ok=True)\n",
    "results_df.to_csv(\"../results/lassonet_repeated_subsampling_results.csv\", index=False)\n",
    "print(\"Saved summary to ../results/lassonet_repeated_subsampling_results.csv\")"
   ],
   "outputs": [
    {
     "name": "stdout",
     "output_type": "stream",
     "text": [
      "Loading train/test splits...\n",
      "X_train shape: (3392, 15)\n",
      "X_test shape: (848, 15)\n",
      "\n",
      "--- Seed 0 ---\n"
     ]
    },
    {
     "name": "stderr",
     "output_type": "stream",
     "text": [
      "Choosing lambda with cross-validation: 100%|██████████| 5/5 [00:25<00:00,  5.07s/it]\n"
     ]
    },
    {
     "name": "stdout",
     "output_type": "stream",
     "text": [
      "--- Seed 1 ---\n"
     ]
    },
    {
     "name": "stderr",
     "output_type": "stream",
     "text": [
      "Choosing lambda with cross-validation: 100%|██████████| 5/5 [00:26<00:00,  5.31s/it]\n"
     ]
    },
    {
     "name": "stdout",
     "output_type": "stream",
     "text": [
      "--- Seed 2 ---\n"
     ]
    },
    {
     "name": "stderr",
     "output_type": "stream",
     "text": [
      "Choosing lambda with cross-validation: 100%|██████████| 5/5 [00:26<00:00,  5.39s/it]\n"
     ]
    },
    {
     "name": "stdout",
     "output_type": "stream",
     "text": [
      "--- Seed 3 ---\n"
     ]
    },
    {
     "name": "stderr",
     "output_type": "stream",
     "text": [
      "Choosing lambda with cross-validation: 100%|██████████| 5/5 [00:24<00:00,  4.97s/it]\n"
     ]
    },
    {
     "name": "stdout",
     "output_type": "stream",
     "text": [
      "--- Seed 4 ---\n"
     ]
    },
    {
     "name": "stderr",
     "output_type": "stream",
     "text": [
      "Choosing lambda with cross-validation: 100%|██████████| 5/5 [00:23<00:00,  4.77s/it]\n"
     ]
    },
    {
     "name": "stdout",
     "output_type": "stream",
     "text": [
      "--- Seed 5 ---\n"
     ]
    },
    {
     "name": "stderr",
     "output_type": "stream",
     "text": [
      "Choosing lambda with cross-validation: 100%|██████████| 5/5 [00:27<00:00,  5.44s/it]\n"
     ]
    },
    {
     "name": "stdout",
     "output_type": "stream",
     "text": [
      "--- Seed 6 ---\n"
     ]
    },
    {
     "name": "stderr",
     "output_type": "stream",
     "text": [
      "Choosing lambda with cross-validation: 100%|██████████| 5/5 [00:24<00:00,  4.98s/it]\n"
     ]
    },
    {
     "name": "stdout",
     "output_type": "stream",
     "text": [
      "--- Seed 7 ---\n"
     ]
    },
    {
     "name": "stderr",
     "output_type": "stream",
     "text": [
      "Choosing lambda with cross-validation: 100%|██████████| 5/5 [00:24<00:00,  4.85s/it]\n"
     ]
    },
    {
     "name": "stdout",
     "output_type": "stream",
     "text": [
      "--- Seed 8 ---\n"
     ]
    },
    {
     "name": "stderr",
     "output_type": "stream",
     "text": [
      "Choosing lambda with cross-validation: 100%|██████████| 5/5 [00:26<00:00,  5.26s/it]\n"
     ]
    },
    {
     "name": "stdout",
     "output_type": "stream",
     "text": [
      "--- Seed 9 ---\n"
     ]
    },
    {
     "name": "stderr",
     "output_type": "stream",
     "text": [
      "Choosing lambda with cross-validation: 100%|██████████| 5/5 [00:27<00:00,  5.55s/it]\n"
     ]
    },
    {
     "name": "stdout",
     "output_type": "stream",
     "text": [
      "--- Seed 10 ---\n"
     ]
    },
    {
     "name": "stderr",
     "output_type": "stream",
     "text": [
      "Choosing lambda with cross-validation: 100%|██████████| 5/5 [00:24<00:00,  4.85s/it]\n"
     ]
    },
    {
     "name": "stdout",
     "output_type": "stream",
     "text": [
      "--- Seed 11 ---\n"
     ]
    },
    {
     "name": "stderr",
     "output_type": "stream",
     "text": [
      "Choosing lambda with cross-validation: 100%|██████████| 5/5 [00:26<00:00,  5.24s/it]\n"
     ]
    },
    {
     "name": "stdout",
     "output_type": "stream",
     "text": [
      "--- Seed 12 ---\n"
     ]
    },
    {
     "name": "stderr",
     "output_type": "stream",
     "text": [
      "Choosing lambda with cross-validation: 100%|██████████| 5/5 [00:25<00:00,  5.16s/it]\n"
     ]
    },
    {
     "name": "stdout",
     "output_type": "stream",
     "text": [
      "--- Seed 13 ---\n"
     ]
    },
    {
     "name": "stderr",
     "output_type": "stream",
     "text": [
      "Choosing lambda with cross-validation: 100%|██████████| 5/5 [00:25<00:00,  5.08s/it]\n"
     ]
    },
    {
     "name": "stdout",
     "output_type": "stream",
     "text": [
      "--- Seed 14 ---\n"
     ]
    },
    {
     "name": "stderr",
     "output_type": "stream",
     "text": [
      "Choosing lambda with cross-validation: 100%|██████████| 5/5 [00:25<00:00,  5.05s/it]\n"
     ]
    },
    {
     "name": "stdout",
     "output_type": "stream",
     "text": [
      "--- Seed 15 ---\n"
     ]
    },
    {
     "name": "stderr",
     "output_type": "stream",
     "text": [
      "Choosing lambda with cross-validation: 100%|██████████| 5/5 [00:25<00:00,  5.12s/it]\n"
     ]
    },
    {
     "name": "stdout",
     "output_type": "stream",
     "text": [
      "--- Seed 16 ---\n"
     ]
    },
    {
     "name": "stderr",
     "output_type": "stream",
     "text": [
      "Choosing lambda with cross-validation: 100%|██████████| 5/5 [00:25<00:00,  5.18s/it]\n"
     ]
    },
    {
     "name": "stdout",
     "output_type": "stream",
     "text": [
      "--- Seed 17 ---\n"
     ]
    },
    {
     "name": "stderr",
     "output_type": "stream",
     "text": [
      "Choosing lambda with cross-validation: 100%|██████████| 5/5 [00:25<00:00,  5.15s/it]\n"
     ]
    },
    {
     "name": "stdout",
     "output_type": "stream",
     "text": [
      "--- Seed 18 ---\n"
     ]
    },
    {
     "name": "stderr",
     "output_type": "stream",
     "text": [
      "Choosing lambda with cross-validation: 100%|██████████| 5/5 [00:26<00:00,  5.35s/it]\n"
     ]
    },
    {
     "name": "stdout",
     "output_type": "stream",
     "text": [
      "--- Seed 19 ---\n"
     ]
    },
    {
     "name": "stderr",
     "output_type": "stream",
     "text": [
      "Choosing lambda with cross-validation: 100%|██████████| 5/5 [00:24<00:00,  5.00s/it]\n"
     ]
    },
    {
     "name": "stdout",
     "output_type": "stream",
     "text": [
      "\n",
      "=== Best Model Summary ===\n",
      "Seed: 18\n",
      "Best Lambda: 14.76002091425563\n",
      "CV F1 Score: 0.4757\n",
      "Test F1 Score: 0.4034\n",
      "\n",
      "Classification Report (Best Seed):\n",
      "              precision    recall  f1-score   support\n",
      "\n",
      "           0       0.93      0.66      0.77       719\n",
      "           1       0.28      0.73      0.40       129\n",
      "\n",
      "    accuracy                           0.67       848\n",
      "   macro avg       0.61      0.70      0.59       848\n",
      "weighted avg       0.83      0.67      0.72       848\n",
      "\n"
     ]
    },
    {
     "data": {
      "text/plain": [
       "<Figure size 600x400 with 2 Axes>"
      ],
      "image/png": "[encoded data removed]"
     },
     "metadata": {},
     "output_type": "display_data"
    },
    {
     "name": "stdout",
     "output_type": "stream",
     "text": [
      "Selected Features (Best Model): tensor([True, True, True, True, True, True, True, True, True, True, True, True,\n",
      "        True, True, True])\n",
      "Saved best model to ../models/lassonet_best_model_seed_18.pkl\n",
      "Saved summary to ../results/lassonet_repeated_subsampling_results.csv\n"
     ]
    }
   ],
   "execution_count": 5
  },
  {
   "metadata": {},
   "cell_type": "code",
   "outputs": [],
   "execution_count": null,
   "source": "",
   "id": "e5c561949919476b"
  }
 ],
 "metadata": {
  "kernelspec": {
   "display_name": "Python 3",
   "language": "python",
   "name": "python3"
  },
  "language_info": {
   "codemirror_mode": {
    "name": "ipython",
    "version": 2
   },
   "file_extension": ".py",
   "mimetype": "text/x-python",
   "name": "python",
   "nbconvert_exporter": "python",
   "pygments_lexer": "ipython2",
   "version": "2.7.6"
  }
 },
 "nbformat": 4,
 "nbformat_minor": 5
}
