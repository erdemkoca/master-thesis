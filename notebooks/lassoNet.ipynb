{
 "cells": [
  {
   "cell_type": "code",
   "id": "initial_id",
   "metadata": {
    "collapsed": true,
    "ExecuteTime": {
     "end_time": "2025-05-15T09:38:28.417558Z",
     "start_time": "2025-05-15T09:37:23.803701Z"
    }
   },
   "source": [
    "# --- 03_lasso_net_classifier.ipynb ---\n",
    "\n",
    "import numpy as np\n",
    "import pandas as pd\n",
    "from lassonet import LassoNetClassifierCV\n",
    "from sklearn.metrics import accuracy_score, classification_report, confusion_matrix\n",
    "import matplotlib.pyplot as plt\n",
    "import seaborn as sns\n",
    "import joblib\n",
    "import os\n",
    "\n",
    "# 1. Load preprocessed data\n",
    "print(\"Loading train/test splits...\")\n",
    "X_train = np.load(\"../data/splits/X_train.npy\")\n",
    "y_train = np.load(\"../data/splits/y_train.npy\")\n",
    "X_test = np.load(\"../data/splits/X_test.npy\")\n",
    "y_test = np.load(\"../data/splits/y_test.npy\")\n",
    "\n",
    "# 2. Normalize the Data (if not done already)\n",
    "from sklearn.preprocessing import StandardScaler\n",
    "\n",
    "scaler = StandardScaler()\n",
    "X_train_scaled = scaler.fit_transform(X_train)\n",
    "X_test_scaled = scaler.transform(X_test)\n",
    "\n",
    "print(f\"X_train shape: {X_train_scaled.shape}\")\n",
    "print(f\"X_test shape: {X_test_scaled.shape}\\n\")\n",
    "\n",
    "# 3. Initialize and train the LassoNet model with Cross-validation\n",
    "print(\"Setting up Grid Search for LassoNet with cross-validation...\")\n",
    "model = LassoNetClassifierCV()\n",
    "\n",
    "# Fit the model with cross-validation on the training data\n",
    "model.fit(X_train_scaled, y_train)\n",
    "\n",
    "# Get the best lambda from cross-validation\n",
    "print(\"\\nBest Parameters (cross-validation):\")\n",
    "print(f\"Best Lambda: {model.best_lambda_}\")\n",
    "print(f\"Best Cross-Validated F1-Score: {model.best_cv_score_:.4f}\\n\")\n",
    "\n",
    "# 4. Evaluate the best model on the test set\n",
    "y_test_pred = model.predict(X_test_scaled)\n",
    "\n",
    "print(\"Test Set Results:\")\n",
    "print(f\"Accuracy: {accuracy_score(y_test, y_test_pred):.4f}\")\n",
    "print()\n",
    "print(\"Classification Report:\")\n",
    "print(classification_report(y_test, y_test_pred))\n",
    "\n",
    "# 5. Confusion Matrix for test set\n",
    "cm = confusion_matrix(y_test, y_test_pred)\n",
    "plt.figure(figsize=(6, 4))\n",
    "sns.heatmap(cm, annot=True, fmt=\"d\", cmap=\"Blues\")\n",
    "plt.xlabel(\"Predicted\")\n",
    "plt.ylabel(\"Actual\")\n",
    "plt.title(\"Test Set Confusion Matrix - LassoNet\")\n",
    "plt.show()\n",
    "\n",
    "# 6. Feature Importance and Interpretation\n",
    "\n",
    "# Assuming X_train_columns is available (i.e., feature names)\n",
    "X_train_columns = ['age', 'cigsPerDay', 'totChol', 'sysBP', 'diaBP', 'BMI', 'heartRate', 'glucose', 'male', 'education', 'currentSmoker', 'BPMeds', 'prevalentStroke', 'prevalentHyp', 'diabetes']\n",
    "\n",
    "# Convert numpy arrays back to DataFrames and assign columns\n",
    "X_train = pd.DataFrame(X_train, columns=X_train_columns)\n",
    "X_test = pd.DataFrame(X_test, columns=X_train_columns)\n",
    "\n",
    "# Now X_train and X_test have proper column names, and you can access X_train.columns\n",
    "print(f\"X_train shape: {X_train.shape}\")\n",
    "print(f\"X_test shape: {X_test.shape}\\n\")\n",
    "\n",
    "# 6. Feature Selection Path and Coefficient Visualization\n",
    "print(\"Feature Selection Path (Lambda vs. Coefficients):\")\n",
    "\n",
    "# Retrieve all models and paths from LassoNet\n",
    "path = model.path(X_train_scaled, y_train, return_state_dicts=True)\n",
    "\n",
    "# Extract lambda values and coefficients over the regularization path\n",
    "lambdas = [p.lambda_ for p in path]\n",
    "coefficients_path = [p.coef_ for p in path]\n",
    "\n",
    "# Get the list of features (using the same order as in X_train)\n",
    "features = X_train.columns\n",
    "\n",
    "# Plot Feature Coefficients across Regularization Path (Lambda values)\n",
    "plt.figure(figsize=(12, 6))\n",
    "\n",
    "for i, feature in enumerate(features):\n",
    "    feature_coeffs = [coef[i] for coef in coefficients_path]\n",
    "    plt.plot(lambdas, feature_coeffs, label=feature)\n",
    "\n",
    "plt.xscale('log')  # Log scale for lambda\n",
    "plt.xlabel('Lambda (Regularization Strength)')\n",
    "plt.ylabel('Feature Coefficients')\n",
    "plt.title('Feature Coefficients Path (Lambda vs. Coefficients)')\n",
    "plt.legend(loc='upper left', bbox_to_anchor=(1, 1))\n",
    "plt.show()\n",
    "\n",
    "\n",
    "\n",
    "# 7. Save the best model to disk\n",
    "os.makedirs(\"../models\", exist_ok=True)\n",
    "model_path = \"../models/lassonet_best_model.pkl\"\n",
    "joblib.dump(model, model_path)\n",
    "print(f\"Best LassoNet model saved to {model_path}\")\n",
    "\n"
   ],
   "outputs": [
    {
     "name": "stdout",
     "output_type": "stream",
     "text": [
      "Loading train/test splits...\n",
      "X_train shape: (3392, 15)\n",
      "X_test shape: (848, 15)\n",
      "\n",
      "Setting up Grid Search for LassoNet with cross-validation...\n"
     ]
    },
    {
     "name": "stderr",
     "output_type": "stream",
     "text": [
      "Choosing lambda with cross-validation: 100%|██████████| 5/5 [00:31<00:00,  6.38s/it]\n"
     ]
    },
    {
     "name": "stdout",
     "output_type": "stream",
     "text": [
      "\n",
      "Best Parameters (cross-validation):\n",
      "Best Lambda: 74.86883190013424\n",
      "Best Cross-Validated F1-Score: 0.8526\n",
      "\n",
      "Test Set Results:\n",
      "Accuracy: 0.8526\n",
      "\n",
      "Classification Report:\n",
      "              precision    recall  f1-score   support\n",
      "\n",
      "           0       0.85      1.00      0.92       719\n",
      "           1       0.83      0.04      0.07       129\n",
      "\n",
      "    accuracy                           0.85       848\n",
      "   macro avg       0.84      0.52      0.50       848\n",
      "weighted avg       0.85      0.85      0.79       848\n",
      "\n"
     ]
    },
    {
     "data": {
      "text/plain": [
       "<Figure size 600x400 with 2 Axes>"
      ],
      "image/png": "[encoded data removed]"
     },
     "metadata": {},
     "output_type": "display_data"
    },
    {
     "name": "stdout",
     "output_type": "stream",
     "text": [
      "X_train shape: (3392, 15)\n",
      "X_test shape: (848, 15)\n",
      "\n",
      "Feature Selection Path (Lambda vs. Coefficients):\n"
     ]
    },
    {
     "name": "stderr",
     "output_type": "stream",
     "text": [
      "Choosing lambda with cross-validation: 100%|██████████| 5/5 [00:29<00:00,  5.96s/it]\n"
     ]
    },
    {
     "ename": "AttributeError",
     "evalue": "'HistoryItem' object has no attribute 'coef_'",
     "output_type": "error",
     "traceback": [
      "\u001B[0;31m---------------------------------------------------------------------------\u001B[0m",
      "\u001B[0;31mAttributeError\u001B[0m                            Traceback (most recent call last)",
      "Cell \u001B[0;32mIn[7], line 80\u001B[0m\n\u001B[1;32m     78\u001B[0m \u001B[38;5;66;03m# Extract lambda values and coefficients over the regularization path\u001B[39;00m\n\u001B[1;32m     79\u001B[0m lambdas \u001B[38;5;241m=\u001B[39m [p\u001B[38;5;241m.\u001B[39mlambda_ \u001B[38;5;28;01mfor\u001B[39;00m p \u001B[38;5;129;01min\u001B[39;00m path]\n\u001B[0;32m---> 80\u001B[0m coefficients_path \u001B[38;5;241m=\u001B[39m [p\u001B[38;5;241m.\u001B[39mcoef_ \u001B[38;5;28;01mfor\u001B[39;00m p \u001B[38;5;129;01min\u001B[39;00m path]\n\u001B[1;32m     82\u001B[0m \u001B[38;5;66;03m# Get the list of features (using the same order as in X_train)\u001B[39;00m\n\u001B[1;32m     83\u001B[0m features \u001B[38;5;241m=\u001B[39m X_train\u001B[38;5;241m.\u001B[39mcolumns\n",
      "Cell \u001B[0;32mIn[7], line 80\u001B[0m, in \u001B[0;36m<listcomp>\u001B[0;34m(.0)\u001B[0m\n\u001B[1;32m     78\u001B[0m \u001B[38;5;66;03m# Extract lambda values and coefficients over the regularization path\u001B[39;00m\n\u001B[1;32m     79\u001B[0m lambdas \u001B[38;5;241m=\u001B[39m [p\u001B[38;5;241m.\u001B[39mlambda_ \u001B[38;5;28;01mfor\u001B[39;00m p \u001B[38;5;129;01min\u001B[39;00m path]\n\u001B[0;32m---> 80\u001B[0m coefficients_path \u001B[38;5;241m=\u001B[39m [\u001B[43mp\u001B[49m\u001B[38;5;241;43m.\u001B[39;49m\u001B[43mcoef_\u001B[49m \u001B[38;5;28;01mfor\u001B[39;00m p \u001B[38;5;129;01min\u001B[39;00m path]\n\u001B[1;32m     82\u001B[0m \u001B[38;5;66;03m# Get the list of features (using the same order as in X_train)\u001B[39;00m\n\u001B[1;32m     83\u001B[0m features \u001B[38;5;241m=\u001B[39m X_train\u001B[38;5;241m.\u001B[39mcolumns\n",
      "\u001B[0;31mAttributeError\u001B[0m: 'HistoryItem' object has no attribute 'coef_'"
     ]
    }
   ],
   "execution_count": 7
  },
  {
   "metadata": {},
   "cell_type": "code",
   "outputs": [],
   "execution_count": null,
   "source": "",
   "id": "87535e3072ba0fb0"
  }
 ],
 "metadata": {
  "kernelspec": {
   "display_name": "Python 3",
   "language": "python",
   "name": "python3"
  },
  "language_info": {
   "codemirror_mode": {
    "name": "ipython",
    "version": 2
   },
   "file_extension": ".py",
   "mimetype": "text/x-python",
   "name": "python",
   "nbconvert_exporter": "python",
   "pygments_lexer": "ipython2",
   "version": "2.7.6"
  }
 },
 "nbformat": 4,
 "nbformat_minor": 5
}
