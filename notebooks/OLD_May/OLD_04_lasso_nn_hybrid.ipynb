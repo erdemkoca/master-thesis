{
 "cells": [
  {
   "cell_type": "markdown",
   "id": "f99900c5",
   "metadata": {},
   "source": [
    "# 04 - Lasso + Neural Network Hybrid Model"
   ]
  },
  {
   "cell_type": "code",
   "id": "f8a11e51",
   "metadata": {
    "ExecuteTime": {
     "end_time": "2025-04-07T12:40:02.764694Z",
     "start_time": "2025-04-07T12:40:02.074434Z"
    }
   },
   "source": [
    "import pandas as pd\n",
    "import torch\n",
    "import torch.nn as nn\n",
    "import torch.optim as optim\n",
    "from sklearn.model_selection import train_test_split\n",
    "from sklearn.preprocessing import StandardScaler\n",
    "from sklearn.linear_model import Lasso\n",
    "from sklearn.metrics import accuracy_score\n",
    "import matplotlib.pyplot as plt\n",
    "import os\n"
   ],
   "outputs": [],
   "execution_count": 1
  },
  {
   "cell_type": "markdown",
   "id": "f1b0ea41",
   "metadata": {},
   "source": [
    "##  Load and Prepare Data"
   ]
  },
  {
   "cell_type": "code",
   "id": "05dea5f9",
   "metadata": {
    "ExecuteTime": {
     "end_time": "2025-04-07T12:40:03.418315Z",
     "start_time": "2025-04-07T12:40:03.410126Z"
    }
   },
   "source": [
    "df = pd.read_csv(\"../../data/processed/cleaned_framingham.csv\")\n",
    "X = df.drop(columns=\"TenYearCHD\")\n",
    "y = df[\"TenYearCHD\"]\n"
   ],
   "outputs": [],
   "execution_count": 2
  },
  {
   "cell_type": "markdown",
   "id": "a10941e4",
   "metadata": {},
   "source": [
    "## Feature Selection with Lasso"
   ]
  },
  {
   "cell_type": "code",
   "id": "2239e01e",
   "metadata": {
    "ExecuteTime": {
     "end_time": "2025-04-07T12:40:05.030478Z",
     "start_time": "2025-04-07T12:40:05.004119Z"
    }
   },
   "source": [
    "lasso = Lasso(alpha=0.01)\n",
    "lasso.fit(X, y)\n",
    "\n",
    "selected_features = X.columns[lasso.coef_ != 0]\n",
    "print(f\"Selected features: {list(selected_features)}\")\n",
    "\n",
    "X_selected = X[selected_features]\n"
   ],
   "outputs": [
    {
     "name": "stdout",
     "output_type": "stream",
     "text": [
      "Selected features: ['male', 'age', 'cigsPerDay', 'totChol', 'sysBP', 'diaBP', 'BMI', 'heartRate', 'glucose']\n"
     ]
    }
   ],
   "execution_count": 3
  },
  {
   "cell_type": "code",
   "id": "683c830d",
   "metadata": {
    "ExecuteTime": {
     "end_time": "2025-04-07T12:40:06.551110Z",
     "start_time": "2025-04-07T12:40:06.547903Z"
    }
   },
   "source": [
    "\n",
    "# 🕵️ Show which features were dropped by Lasso\n",
    "all_features = set(X.columns)\n",
    "selected_features = set(selected_features)\n",
    "dropped_features = all_features - selected_features\n",
    "\n",
    "print(\"✅ Selected Features:\", sorted(selected_features))\n",
    "print(\"❌ Dropped Features:\", sorted(dropped_features))\n"
   ],
   "outputs": [
    {
     "name": "stdout",
     "output_type": "stream",
     "text": [
      "✅ Selected Features: ['BMI', 'age', 'cigsPerDay', 'diaBP', 'glucose', 'heartRate', 'male', 'sysBP', 'totChol']\n",
      "❌ Dropped Features: ['BPMeds', 'currentSmoker', 'diabetes', 'education', 'prevalentHyp', 'prevalentStroke']\n"
     ]
    }
   ],
   "execution_count": 4
  },
  {
   "cell_type": "code",
   "id": "527ace15",
   "metadata": {
    "ExecuteTime": {
     "end_time": "2025-04-07T12:40:08.247948Z",
     "start_time": "2025-04-07T12:40:08.239801Z"
    }
   },
   "source": [
    "X_train, X_test, y_train, y_test = train_test_split(X_selected, y, test_size=0.2, random_state=42)\n",
    "scaler = StandardScaler()\n",
    "X_train = scaler.fit_transform(X_train)\n",
    "X_test = scaler.transform(X_test)\n",
    "\n",
    "X_train_tensor = torch.tensor(X_train, dtype=torch.float32)\n",
    "y_train_tensor = torch.tensor(y_train.values, dtype=torch.float32).view(-1, 1)\n",
    "X_test_tensor = torch.tensor(X_test, dtype=torch.float32)\n",
    "y_test_tensor = torch.tensor(y_test.values, dtype=torch.float32).view(-1, 1)\n"
   ],
   "outputs": [],
   "execution_count": 5
  },
  {
   "cell_type": "markdown",
   "id": "729dbccc",
   "metadata": {},
   "source": [
    "## Define Neural Network Model"
   ]
  },
  {
   "cell_type": "code",
   "id": "7060d058",
   "metadata": {
    "ExecuteTime": {
     "end_time": "2025-04-07T12:40:09.957970Z",
     "start_time": "2025-04-07T12:40:09.954939Z"
    }
   },
   "source": [
    "class SimpleNN(nn.Module):\n",
    "    def __init__(self, input_dim):\n",
    "        super(SimpleNN, self).__init__()\n",
    "        self.fc1 = nn.Linear(input_dim, 32)\n",
    "        self.relu = nn.ReLU()\n",
    "        self.fc2 = nn.Linear(32, 1)\n",
    "\n",
    "    def forward(self, x):\n",
    "        x = self.relu(self.fc1(x))\n",
    "        return self.fc2(x)\n"
   ],
   "outputs": [],
   "execution_count": 6
  },
  {
   "cell_type": "markdown",
   "id": "9161c5bb",
   "metadata": {},
   "source": [
    "## Train the Model"
   ]
  },
  {
   "cell_type": "code",
   "id": "3d4b62cb",
   "metadata": {
    "ExecuteTime": {
     "end_time": "2025-04-07T12:40:12.097122Z",
     "start_time": "2025-04-07T12:40:11.523284Z"
    }
   },
   "source": [
    "model = SimpleNN(X_train.shape[1])\n",
    "criterion = nn.BCEWithLogitsLoss()\n",
    "optimizer = optim.Adam(model.parameters(), lr=0.01)\n",
    "\n",
    "loss_history = []\n",
    "epochs = 100\n",
    "for epoch in range(epochs):\n",
    "    model.train()\n",
    "    outputs = model(X_train_tensor)\n",
    "    loss = criterion(outputs, y_train_tensor)\n",
    "    optimizer.zero_grad()\n",
    "    loss.backward()\n",
    "    optimizer.step()\n",
    "    loss_history.append(loss.item())\n",
    "\n",
    "    if epoch % 10 == 0:\n",
    "        print(f\"Epoch {epoch}: Loss = {loss.item():.4f}\")\n"
   ],
   "outputs": [
    {
     "name": "stdout",
     "output_type": "stream",
     "text": [
      "Epoch 0: Loss = 0.7346\n",
      "Epoch 10: Loss = 0.4388\n",
      "Epoch 20: Loss = 0.4004\n",
      "Epoch 30: Loss = 0.3906\n",
      "Epoch 40: Loss = 0.3805\n",
      "Epoch 50: Loss = 0.3762\n",
      "Epoch 60: Loss = 0.3730\n",
      "Epoch 70: Loss = 0.3706\n",
      "Epoch 80: Loss = 0.3685\n",
      "Epoch 90: Loss = 0.3670\n"
     ]
    }
   ],
   "execution_count": 7
  },
  {
   "cell_type": "markdown",
   "id": "6dd3c00d",
   "metadata": {},
   "source": [
    "## Evaluate the Model"
   ]
  },
  {
   "cell_type": "code",
   "id": "8ee49a27",
   "metadata": {
    "ExecuteTime": {
     "end_time": "2025-04-07T12:40:14.318267Z",
     "start_time": "2025-04-07T12:40:14.313287Z"
    }
   },
   "source": [
    "model.eval()\n",
    "with torch.no_grad():\n",
    "    predictions = torch.sigmoid(model(X_test_tensor)).round()\n",
    "    acc = accuracy_score(y_test_tensor.numpy(), predictions.numpy())\n",
    "    print(f\"Test Accuracy: {acc:.4f}\")\n"
   ],
   "outputs": [
    {
     "name": "stdout",
     "output_type": "stream",
     "text": [
      "Test Accuracy: 0.8402\n"
     ]
    }
   ],
   "execution_count": 8
  },
  {
   "cell_type": "code",
   "id": "05b9a303",
   "metadata": {
    "ExecuteTime": {
     "end_time": "2025-04-07T12:40:15.909439Z",
     "start_time": "2025-04-07T12:40:15.905008Z"
    }
   },
   "source": [
    "\n",
    "from sklearn.metrics import mean_squared_error\n",
    "\n",
    "# 🧮 Mean Squared Error\n",
    "mse = mean_squared_error(y_test_tensor.numpy(), predictions.numpy())\n",
    "print(f\"📉 Mean Squared Error (MSE): {mse:.4f}\")\n"
   ],
   "outputs": [
    {
     "name": "stdout",
     "output_type": "stream",
     "text": [
      "📉 Mean Squared Error (MSE): 0.1598\n"
     ]
    }
   ],
   "execution_count": 9
  },
  {
   "cell_type": "code",
   "id": "c619b908",
   "metadata": {
    "ExecuteTime": {
     "end_time": "2025-04-07T12:40:20.668465Z",
     "start_time": "2025-04-07T12:40:20.571367Z"
    }
   },
   "source": [
    "os.makedirs(\"../../models\", exist_ok=True)\n",
    "torch.save(model.state_dict(), \"../models/lasso_nn_model.pt\")\n",
    "\n",
    "plt.figure()\n",
    "plt.plot(loss_history)\n",
    "plt.title(\"Lasso-NN Training Loss\")\n",
    "plt.xlabel(\"Epoch\")\n",
    "plt.ylabel(\"Loss\")\n",
    "plt.grid(True)\n",
    "os.makedirs(\"../../results/figures\", exist_ok=True)\n",
    "plt.savefig(\"../results/figures/lasso_nn_loss.png\")\n",
    "plt.show()\n"
   ],
   "outputs": [
    {
     "data": {
      "text/plain": [
       "<Figure size 640x480 with 1 Axes>"
      ],
      "image/png": "[encoded data removed]"
     },
     "metadata": {},
     "output_type": "display_data"
    }
   ],
   "execution_count": 10
  },
  {
   "cell_type": "code",
   "id": "63619b53",
   "metadata": {
    "ExecuteTime": {
     "end_time": "2025-04-07T12:40:23.891245Z",
     "start_time": "2025-04-07T12:40:23.883682Z"
    }
   },
   "source": [
    "pd.DataFrame({\n",
    "    \"Prediction\": predictions.numpy().flatten(),\n",
    "    \"Actual\": y_test_tensor.numpy().flatten()\n",
    "}).head()\n"
   ],
   "outputs": [
    {
     "data": {
      "text/plain": [
       "   Prediction  Actual\n",
       "0         0.0     0.0\n",
       "1         0.0     0.0\n",
       "2         0.0     0.0\n",
       "3         0.0     0.0\n",
       "4         0.0     0.0"
      ],
      "text/html": [
       "<div>\n",
       "<style scoped>\n",
       "    .dataframe tbody tr th:only-of-type {\n",
       "        vertical-align: middle;\n",
       "    }\n",
       "\n",
       "    .dataframe tbody tr th {\n",
       "        vertical-align: top;\n",
       "    }\n",
       "\n",
       "    .dataframe thead th {\n",
       "        text-align: right;\n",
       "    }\n",
       "</style>\n",
       "<table border=\"1\" class=\"dataframe\">\n",
       "  <thead>\n",
       "    <tr style=\"text-align: right;\">\n",
       "      <th></th>\n",
       "      <th>Prediction</th>\n",
       "      <th>Actual</th>\n",
       "    </tr>\n",
       "  </thead>\n",
       "  <tbody>\n",
       "    <tr>\n",
       "      <th>0</th>\n",
       "      <td>0.0</td>\n",
       "      <td>0.0</td>\n",
       "    </tr>\n",
       "    <tr>\n",
       "      <th>1</th>\n",
       "      <td>0.0</td>\n",
       "      <td>0.0</td>\n",
       "    </tr>\n",
       "    <tr>\n",
       "      <th>2</th>\n",
       "      <td>0.0</td>\n",
       "      <td>0.0</td>\n",
       "    </tr>\n",
       "    <tr>\n",
       "      <th>3</th>\n",
       "      <td>0.0</td>\n",
       "      <td>0.0</td>\n",
       "    </tr>\n",
       "    <tr>\n",
       "      <th>4</th>\n",
       "      <td>0.0</td>\n",
       "      <td>0.0</td>\n",
       "    </tr>\n",
       "  </tbody>\n",
       "</table>\n",
       "</div>"
      ]
     },
     "execution_count": 11,
     "metadata": {},
     "output_type": "execute_result"
    }
   ],
   "execution_count": 11
  }
 ],
 "metadata": {
  "kernelspec": {
   "display_name": "Python 3 (ipykernel)",
   "language": "python",
   "name": "python3"
  }
 },
 "nbformat": 4,
 "nbformat_minor": 5
}
