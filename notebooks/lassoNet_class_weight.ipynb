{
 "cells": [
  {
   "cell_type": "code",
   "id": "initial_id",
   "metadata": {
    "collapsed": true,
    "ExecuteTime": {
     "end_time": "2025-05-15T09:23:34.376029Z",
     "start_time": "2025-05-15T09:22:59.983746Z"
    }
   },
   "source": [
    "# --- 03_lasso_net_classifier_with_class_weight.ipynb ---\n",
    "\n",
    "import numpy as np\n",
    "import pandas as pd\n",
    "from lassonet import LassoNetClassifierCV\n",
    "from sklearn.metrics import accuracy_score, classification_report, confusion_matrix\n",
    "import matplotlib.pyplot as plt\n",
    "import seaborn as sns\n",
    "import joblib\n",
    "import os\n",
    "from sklearn.preprocessing import StandardScaler\n",
    "from sklearn.utils import class_weight\n",
    "import torch\n",
    "\n",
    "# 1. Load preprocessed data\n",
    "print(\"Loading train/test splits...\")\n",
    "X_train = np.load(\"../data/splits/X_train.npy\")\n",
    "y_train = np.load(\"../data/splits/y_train.npy\")\n",
    "X_test = np.load(\"../data/splits/X_test.npy\")\n",
    "y_test = np.load(\"../data/splits/y_test.npy\")\n",
    "\n",
    "# 2. Normalize the Data (if not done already)\n",
    "#scaler = StandardScaler()\n",
    "#X_train_scaled = scaler.fit_transform(X_train)\n",
    "#X_test_scaled = scaler.transform(X_test)\n",
    "\n",
    "print(f\"X_train shape: {X_train.shape}\")\n",
    "print(f\"X_test shape: {X_test.shape}\\n\")\n",
    "\n",
    "# ==============================\n",
    "# Part 2: Compute Class Weights\n",
    "# ==============================\n",
    "\n",
    "# Compute class weights based on training data\n",
    "class_weights = class_weight.compute_class_weight(\n",
    "    class_weight='balanced',\n",
    "    classes=np.unique(y_train),\n",
    "    y=y_train\n",
    ")\n",
    "\n",
    "# Convert class weights to a tensor\n",
    "class_weights_tensor = torch.FloatTensor(class_weights).to(torch.device('cuda' if torch.cuda.is_available() else 'cpu'))\n",
    "\n",
    "# ==============================\n",
    "# Initialize and train the LassoNet model with class weighting\n",
    "# ==============================\n",
    "\n",
    "print(\"Setting up Grid Search for LassoNet with class weighting...\")\n",
    "model = LassoNetClassifierCV(class_weight=class_weights_tensor)  # Pass the computed class weights as tensor\n",
    "\n",
    "# Fit the model with cross-validation on the training data\n",
    "model.fit(X_train, y_train)\n",
    "\n",
    "# Get the best lambda from cross-validation\n",
    "print(\"\\nBest Parameters (cross-validation):\")\n",
    "print(f\"Best Lambda: {model.best_lambda_}\")\n",
    "print(f\"Best Cross-Validated F1-Score: {model.best_cv_score_:.4f}\\n\")\n",
    "\n",
    "# 3. Evaluate the best model on the test set\n",
    "y_test_pred = model.predict(X_test)\n",
    "\n",
    "print(\"Test Set Results:\")\n",
    "print(f\"Accuracy: {accuracy_score(y_test, y_test_pred):.4f}\")\n",
    "print()\n",
    "print(\"Classification Report:\")\n",
    "print(classification_report(y_test, y_test_pred))\n",
    "\n",
    "# 4. Confusion Matrix for test set\n",
    "cm = confusion_matrix(y_test, y_test_pred)\n",
    "plt.figure(figsize=(6, 4))\n",
    "sns.heatmap(cm, annot=True, fmt=\"d\", cmap=\"Blues\")\n",
    "plt.xlabel(\"Predicted\")\n",
    "plt.ylabel(\"Actual\")\n",
    "plt.title(\"Test Set Confusion Matrix - LassoNet\")\n",
    "plt.show()\n",
    "\n",
    "# 5. Feature Importance\n",
    "# Print out feature importance using the selected features (LassoNet's built-in feature selection)\n",
    "selected_features = model.best_selected_\n",
    "print(f\"Selected Features: {selected_features}\")\n",
    "\n",
    "# 6. Save the best model to disk\n",
    "os.makedirs(\"../models\", exist_ok=True)\n",
    "model_path = \"../models/lassonet_best_model_with_class_weight.pkl\"\n",
    "joblib.dump(model, model_path)\n",
    "print(f\"Best LassoNet model with class weighting saved to {model_path}\")\n",
    "\n",
    "# 7. Save GridSearch Results (Optional)\n",
    "# Note: Some LassoNet models may not expose `cv_results_`, so you may not be able to save them like scikit-learn.\n",
    "# results_df = pd.DataFrame(model.cv_results_)\n",
    "# results_df.to_csv(\"../results/lasso_gridsearch_results_class_weight.csv\", index=False)\n",
    "# print(\"Grid search results for class weighting saved to ../results/lasso_gridsearch_results_class_weight.csv\")\n"
   ],
   "outputs": [
    {
     "name": "stdout",
     "output_type": "stream",
     "text": [
      "Loading train/test splits...\n",
      "X_train shape: (3392, 15)\n",
      "X_test shape: (848, 15)\n",
      "\n",
      "Setting up Grid Search for LassoNet with class weighting...\n"
     ]
    },
    {
     "name": "stderr",
     "output_type": "stream",
     "text": [
      "Choosing lambda with cross-validation: 100%|██████████| 5/5 [00:33<00:00,  6.73s/it]\n"
     ]
    },
    {
     "name": "stdout",
     "output_type": "stream",
     "text": [
      "\n",
      "Best Parameters (cross-validation):\n",
      "Best Lambda: 7.988801830877642\n",
      "Best Cross-Validated F1-Score: 0.6751\n",
      "\n",
      "Test Set Results:\n",
      "Accuracy: 0.6627\n",
      "\n",
      "Classification Report:\n",
      "              precision    recall  f1-score   support\n",
      "\n",
      "           0       0.92      0.66      0.77       719\n",
      "           1       0.26      0.68      0.38       129\n",
      "\n",
      "    accuracy                           0.66       848\n",
      "   macro avg       0.59      0.67      0.57       848\n",
      "weighted avg       0.82      0.66      0.71       848\n",
      "\n"
     ]
    },
    {
     "data": {
      "text/plain": [
       "<Figure size 600x400 with 2 Axes>"
      ],
      "image/png": "[encoded data removed]"
     },
     "metadata": {},
     "output_type": "display_data"
    },
    {
     "name": "stdout",
     "output_type": "stream",
     "text": [
      "Selected Features: tensor([True, True, True, True, True, True, True, True, True, True, True, True,\n",
      "        True, True, True])\n",
      "Best LassoNet model with class weighting saved to ../models/lassonet_best_model_with_class_weight.pkl\n"
     ]
    }
   ],
   "execution_count": 4
  },
  {
   "metadata": {},
   "cell_type": "code",
   "outputs": [],
   "execution_count": null,
   "source": "",
   "id": "af13117d8e727f37"
  }
 ],
 "metadata": {
  "kernelspec": {
   "display_name": "Python 3",
   "language": "python",
   "name": "python3"
  },
  "language_info": {
   "codemirror_mode": {
    "name": "ipython",
    "version": 2
   },
   "file_extension": ".py",
   "mimetype": "text/x-python",
   "name": "python",
   "nbconvert_exporter": "python",
   "pygments_lexer": "ipython2",
   "version": "2.7.6"
  }
 },
 "nbformat": 4,
 "nbformat_minor": 5
}
