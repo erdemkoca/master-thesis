{
 "cells": [
  {
   "metadata": {
    "ExecuteTime": {
     "end_time": "2025-07-24T10:51:43.469757Z",
     "start_time": "2025-07-24T10:51:08.141602Z"
    }
   },
   "cell_type": "code",
   "source": [
    "# Cell 1 – Imports und Setup\n",
    "import numpy as np\n",
    "import matplotlib.pyplot as plt\n",
    "import pandas as pd\n",
    "import seaborn as sns\n",
    "\n",
    "from sklearn.metrics import f1_score, precision_score, recall_score\n",
    "\n",
    "from methods.lasso          import run_lasso\n",
    "from methods.lasso_Net     import run_lassonet\n",
    "from methods.random_forest  import run_random_forest\n",
    "from methods.neural_net     import run_neural_net\n",
    "from methods.nimo_variants.baseline import run_nimo_baseline\n",
    "from methods.nimo_variants.variant import run_nimo_variant\n",
    "\n",
    "# Cell 2 – Synthetische Daten erzeugen\n",
    "import numpy as np\n",
    "from scipy.special import expit\n",
    "\n",
    "np.random.seed(42)\n",
    "n, d, k = 200, 20, 5\n",
    "beta_true = np.zeros(d)\n",
    "support   = np.random.choice(d, size=k, replace=False)\n",
    "beta_true[support] = np.random.uniform(1.0, 3.0, size=k)\n",
    "X = np.random.randn(n, d)\n",
    "p = expit(X.dot(beta_true))\n",
    "y = np.random.binomial(1, p)\n",
    "\n",
    "print(f\"Generated synthetic data with {d} features, {k} true support features\")\n",
    "print(f\"True support features: {sorted(support)}\")\n",
    "print()\n",
    "\n",
    "# ============================================================================\n",
    "# CELL 3: Add visualization functions\n",
    "# ============================================================================\n",
    "def plot_support_confusion(out, support, d, method_name):\n",
    "    \"\"\"\n",
    "    Plot feature-level confusion matrix for support recovery.\n",
    "    \"\"\"\n",
    "    selected_features = out.get('selected_features', [])\n",
    "\n",
    "    # Convert feature names to indices if needed\n",
    "    if selected_features and isinstance(selected_features[0], str):\n",
    "        selected_indices = [int(f.split('_')[-1]) if '_' in f else int(f) for f in selected_features]\n",
    "    else:\n",
    "        selected_indices = selected_features\n",
    "\n",
    "    # Create binary vectors\n",
    "    true_support_vec = np.zeros(d)\n",
    "    true_support_vec[support] = 1\n",
    "\n",
    "    predicted_support_vec = np.zeros(d)\n",
    "    predicted_support_vec[selected_indices] = 1\n",
    "\n",
    "    # Calculate confusion matrix\n",
    "    tp = np.sum((true_support_vec == 1) & (predicted_support_vec == 1))\n",
    "    tn = np.sum((true_support_vec == 0) & (predicted_support_vec == 0))\n",
    "    fp = np.sum((true_support_vec == 0) & (predicted_support_vec == 1))\n",
    "    fn = np.sum((true_support_vec == 1) & (predicted_support_vec == 0))\n",
    "\n",
    "    # Create confusion matrix\n",
    "    conf_matrix = np.array([[tn, fp], [fn, tp]])\n",
    "\n",
    "    # Plot heatmap\n",
    "    plt.figure(figsize=(6, 4))\n",
    "    sns.heatmap(conf_matrix, annot=True, fmt='d', cmap='Blues',\n",
    "                xticklabels=['Not Selected', 'Selected'],\n",
    "                yticklabels=['Not in True Support', 'In True Support'])\n",
    "    plt.title(f'Feature Selection Confusion Matrix - {method_name}')\n",
    "    plt.ylabel('True Support')\n",
    "    plt.xlabel('Predicted Selection')\n",
    "    plt.tight_layout()\n",
    "    plt.show()\n",
    "\n",
    "def print_feature_selection_summary(methods, all_results_dicts, support):\n",
    "    \"\"\"\n",
    "    Print detailed feature selection summary.\n",
    "    \"\"\"\n",
    "    print(\"Feature Selection Summary:\")\n",
    "    print(\"=\" * 60)\n",
    "    print(f\"True support features: {sorted(support)}\")\n",
    "    print()\n",
    "    for method, result in zip(methods, all_results_dicts):\n",
    "        selected = result['selected_features']\n",
    "        print(f\"{method.__name__}:\")\n",
    "        print(f\"  Selected features: {sorted(selected)}\")\n",
    "        print(f\"  Number selected: {len(selected)}\")\n",
    "        print()\n",
    "\n",
    "# ============================================================================\n",
    "# CELL 4: Modify your eval_method function to store full results\n",
    "# ============================================================================\n",
    "def eval_method(fn, X_tr, y_tr, X_te, y_te, **kwargs):\n",
    "    out = fn(\n",
    "        X_tr, y_tr, X_te, y_te,\n",
    "        rng=None,\n",
    "        iteration=0,\n",
    "        randomState=0,\n",
    "        X_columns=list(range(d)),\n",
    "        **kwargs\n",
    "    )\n",
    "    # F1 auf Test\n",
    "    f1 = out.get('best_f1', np.nan)\n",
    "    # Sparsity\n",
    "    n_sel = out.get('n_selected', 0)\n",
    "    # Support-Recovery Precision/Recall (nur wenn Methode Selektion hat)\n",
    "    if out.get('method_has_selection', False):\n",
    "        recov = set(out['selected_features'])\n",
    "        true_supp = set(support)\n",
    "        prec = precision_score(\n",
    "            [1 if i in true_supp else 0 for i in range(d)],\n",
    "            [1 if i in recov   else 0 for i in range(d)],\n",
    "            zero_division=0\n",
    "        )\n",
    "        rec = recall_score(\n",
    "            [1 if i in true_supp else 0 for i in range(d)],\n",
    "            [1 if i in recov   else 0 for i in range(d)],\n",
    "            zero_division=0\n",
    "        )\n",
    "    else:\n",
    "        prec = rec = 0.0\n",
    "\n",
    "    return {\n",
    "        'model':       fn.__name__,\n",
    "        'f1_test':     f1,\n",
    "        'precision_s': prec,\n",
    "        'recall_s':    rec,\n",
    "        'n_selected':  n_sel,\n",
    "        'out':         out  # Store full output for confusion matrix\n",
    "    }\n",
    "\n",
    "# ============================================================================\n",
    "# CELL 5: Method evaluation loop with updated methods list\n",
    "# ============================================================================\n",
    "methods = [\n",
    "    run_lasso,\n",
    "    run_lassonet,\n",
    "    run_random_forest,\n",
    "    run_neural_net,\n",
    "    run_nimo_baseline,\n",
    "    run_nimo_variant\n",
    "]\n",
    "\n",
    "results = []\n",
    "all_results_dicts = []  # Store full results for visualizations\n",
    "for m in methods:\n",
    "    print(\"Running\", m.__name__)\n",
    "    res = eval_method(m, X, y, X, y)\n",
    "    results.append(res)\n",
    "    all_results_dicts.append(res['out'])\n",
    "\n",
    "df_res = pd.DataFrame([{k: v for k, v in r.items() if k != 'out'} for r in results]).set_index('model')\n",
    "print(df_res)\n",
    "\n",
    "# ============================================================================\n",
    "# CELL 6: F1 accuracy plot (first plot as requested)\n",
    "# ============================================================================\n",
    "plt.figure(figsize=(8, 4))\n",
    "df_res['f1_test'].sort_values().plot(kind='barh')\n",
    "plt.xlabel(\"F1 on synthetic data\")\n",
    "plt.xlim(0, 1)\n",
    "plt.title(\"F1 Score Comparison\")\n",
    "plt.tight_layout()\n",
    "plt.show()\n",
    "\n",
    "# ============================================================================\n",
    "# CELL 7: Feature-level confusion matrices (second plot as requested)\n",
    "# ============================================================================\n",
    "print(\"Feature Selection Confusion Matrices:\")\n",
    "print(\"=\" * 60)\n",
    "for method, result in zip(methods, all_results_dicts):\n",
    "    if result.get('method_has_selection', True):\n",
    "        plot_support_confusion(result, support, d, method.__name__)\n",
    "    else:\n",
    "        print(f\"{method.__name__} does not perform feature selection, skipping.\")\n",
    "\n",
    "# ============================================================================\n",
    "# CELL 8: Feature selection summary (third plot as requested)\n",
    "# ============================================================================\n",
    "print_feature_selection_summary(methods, all_results_dicts, support)\n",
    "\n",
    "print(\"Analysis complete!\")"
   ],
   "id": "3a67ddd2f68c5962",
   "outputs": [
    {
     "name": "stdout",
     "output_type": "stream",
     "text": [
      "Generated synthetic data with 20 features, 5 true support features\n",
      "True support features: [0, 1, 8, 15, 17]\n",
      "\n",
      "Running run_lasso\n",
      "Running run_lassonet\n"
     ]
    },
    {
     "name": "stderr",
     "output_type": "stream",
     "text": [
      "Choosing lambda with cross-validation: 100%|██████████| 5/5 [00:29<00:00,  5.93s/it]\n"
     ]
    },
    {
     "name": "stdout",
     "output_type": "stream",
     "text": [
      "Running run_random_forest\n",
      "Running run_neural_net\n"
     ]
    },
    {
     "name": "stderr",
     "output_type": "stream",
     "text": [
      "GPU available: True (mps), used: False\n",
      "TPU available: False, using: 0 TPU cores\n",
      "HPU available: False, using: 0 HPUs\n"
     ]
    },
    {
     "name": "stdout",
     "output_type": "stream",
     "text": [
      "[NeuralNet] seed=0, hidden=128, dropout=0.3\n",
      "Running run_nimo_baseline\n"
     ]
    },
    {
     "name": "stderr",
     "output_type": "stream",
     "text": [
      "/opt/anaconda3/envs/thesis_env/lib/python3.10/site-packages/lightning/pytorch/trainer/setup.py:177: GPU available but not used. You can set it by doing `Trainer(accelerator='gpu')`.\n"
     ]
    },
    {
     "data": {
      "text/plain": [
       "Sanity Checking: |          | 0/? [00:00<?, ?it/s]"
      ],
      "application/vnd.jupyter.widget-view+json": {
       "version_major": 2,
       "version_minor": 0,
       "model_id": "01cdb225acbf47f0b1023c57a38f34b2"
      }
     },
     "metadata": {},
     "output_type": "display_data"
    },
    {
     "name": "stderr",
     "output_type": "stream",
     "text": [
      "/opt/anaconda3/envs/thesis_env/lib/python3.10/site-packages/lightning/pytorch/trainer/connectors/data_connector.py:425: The 'val_dataloader' does not have many workers which may be a bottleneck. Consider increasing the value of the `num_workers` argument` to `num_workers=11` in the `DataLoader` to improve performance.\n",
      "/opt/anaconda3/envs/thesis_env/lib/python3.10/site-packages/lightning/pytorch/trainer/connectors/data_connector.py:425: The 'train_dataloader' does not have many workers which may be a bottleneck. Consider increasing the value of the `num_workers` argument` to `num_workers=11` in the `DataLoader` to improve performance.\n"
     ]
    },
    {
     "data": {
      "text/plain": [
       "Training: |          | 0/? [00:00<?, ?it/s]"
      ],
      "application/vnd.jupyter.widget-view+json": {
       "version_major": 2,
       "version_minor": 0,
       "model_id": "8056dd24b24c4b0b92c348e0ba087850"
      }
     },
     "metadata": {},
     "output_type": "display_data"
    },
    {
     "data": {
      "text/plain": [
       "Validation: |          | 0/? [00:00<?, ?it/s]"
      ],
      "application/vnd.jupyter.widget-view+json": {
       "version_major": 2,
       "version_minor": 0,
       "model_id": "f3c6ccf66bf14e58af36cd9fa9234627"
      }
     },
     "metadata": {},
     "output_type": "display_data"
    },
    {
     "data": {
      "text/plain": [
       "Validation: |          | 0/? [00:00<?, ?it/s]"
      ],
      "application/vnd.jupyter.widget-view+json": {
       "version_major": 2,
       "version_minor": 0,
       "model_id": "c9c9fdc24fda4c47a5ea1dcf0bc67262"
      }
     },
     "metadata": {},
     "output_type": "display_data"
    },
    {
     "data": {
      "text/plain": [
       "Validation: |          | 0/? [00:00<?, ?it/s]"
      ],
      "application/vnd.jupyter.widget-view+json": {
       "version_major": 2,
       "version_minor": 0,
       "model_id": "dca083f441974d79893369ee7f070234"
      }
     },
     "metadata": {},
     "output_type": "display_data"
    },
    {
     "data": {
      "text/plain": [
       "Validation: |          | 0/? [00:00<?, ?it/s]"
      ],
      "application/vnd.jupyter.widget-view+json": {
       "version_major": 2,
       "version_minor": 0,
       "model_id": "98ad227970e049a7924f0fb5341050e1"
      }
     },
     "metadata": {},
     "output_type": "display_data"
    },
    {
     "data": {
      "text/plain": [
       "Validation: |          | 0/? [00:00<?, ?it/s]"
      ],
      "application/vnd.jupyter.widget-view+json": {
       "version_major": 2,
       "version_minor": 0,
       "model_id": "868889d41241433ca8cfacdcf7cf9ee0"
      }
     },
     "metadata": {},
     "output_type": "display_data"
    },
    {
     "data": {
      "text/plain": [
       "Validation: |          | 0/? [00:00<?, ?it/s]"
      ],
      "application/vnd.jupyter.widget-view+json": {
       "version_major": 2,
       "version_minor": 0,
       "model_id": "52f6002a5753414a920c40e0fa66d0ac"
      }
     },
     "metadata": {},
     "output_type": "display_data"
    },
    {
     "data": {
      "text/plain": [
       "Validation: |          | 0/? [00:00<?, ?it/s]"
      ],
      "application/vnd.jupyter.widget-view+json": {
       "version_major": 2,
       "version_minor": 0,
       "model_id": "2979adc2de984ff891efa004226faf43"
      }
     },
     "metadata": {},
     "output_type": "display_data"
    },
    {
     "data": {
      "text/plain": [
       "Validation: |          | 0/? [00:00<?, ?it/s]"
      ],
      "application/vnd.jupyter.widget-view+json": {
       "version_major": 2,
       "version_minor": 0,
       "model_id": "7ae7d42753ae4ed68013ecede183a4c5"
      }
     },
     "metadata": {},
     "output_type": "display_data"
    },
    {
     "data": {
      "text/plain": [
       "Validation: |          | 0/? [00:00<?, ?it/s]"
      ],
      "application/vnd.jupyter.widget-view+json": {
       "version_major": 2,
       "version_minor": 0,
       "model_id": "1366b263cc884563b259fd4f340b34f0"
      }
     },
     "metadata": {},
     "output_type": "display_data"
    },
    {
     "data": {
      "text/plain": [
       "Validation: |          | 0/? [00:00<?, ?it/s]"
      ],
      "application/vnd.jupyter.widget-view+json": {
       "version_major": 2,
       "version_minor": 0,
       "model_id": "a75ced749058480aa8bb9b1cd91f616b"
      }
     },
     "metadata": {},
     "output_type": "display_data"
    },
    {
     "data": {
      "text/plain": [
       "Validation: |          | 0/? [00:00<?, ?it/s]"
      ],
      "application/vnd.jupyter.widget-view+json": {
       "version_major": 2,
       "version_minor": 0,
       "model_id": "255e7a25d50148a3b90b37697d4ba20c"
      }
     },
     "metadata": {},
     "output_type": "display_data"
    },
    {
     "data": {
      "text/plain": [
       "Validation: |          | 0/? [00:00<?, ?it/s]"
      ],
      "application/vnd.jupyter.widget-view+json": {
       "version_major": 2,
       "version_minor": 0,
       "model_id": "125eef0fb64341c28988df4f318aa506"
      }
     },
     "metadata": {},
     "output_type": "display_data"
    },
    {
     "data": {
      "text/plain": [
       "Validation: |          | 0/? [00:00<?, ?it/s]"
      ],
      "application/vnd.jupyter.widget-view+json": {
       "version_major": 2,
       "version_minor": 0,
       "model_id": "a6db8683b4f7473c94b3ddfb36fa231e"
      }
     },
     "metadata": {},
     "output_type": "display_data"
    },
    {
     "data": {
      "text/plain": [
       "Validation: |          | 0/? [00:00<?, ?it/s]"
      ],
      "application/vnd.jupyter.widget-view+json": {
       "version_major": 2,
       "version_minor": 0,
       "model_id": "f49dc34f31514f0695cfbc26e7f3aa3f"
      }
     },
     "metadata": {},
     "output_type": "display_data"
    },
    {
     "data": {
      "text/plain": [
       "Validation: |          | 0/? [00:00<?, ?it/s]"
      ],
      "application/vnd.jupyter.widget-view+json": {
       "version_major": 2,
       "version_minor": 0,
       "model_id": "5f9b8857c42145bfafc21bacb7d81a0a"
      }
     },
     "metadata": {},
     "output_type": "display_data"
    },
    {
     "data": {
      "text/plain": [
       "Validation: |          | 0/? [00:00<?, ?it/s]"
      ],
      "application/vnd.jupyter.widget-view+json": {
       "version_major": 2,
       "version_minor": 0,
       "model_id": "287d04b4b34749a0bd4518aee7b71d94"
      }
     },
     "metadata": {},
     "output_type": "display_data"
    },
    {
     "data": {
      "text/plain": [
       "Validation: |          | 0/? [00:00<?, ?it/s]"
      ],
      "application/vnd.jupyter.widget-view+json": {
       "version_major": 2,
       "version_minor": 0,
       "model_id": "1fc5c8701321460ea07e472cae1d909f"
      }
     },
     "metadata": {},
     "output_type": "display_data"
    },
    {
     "data": {
      "text/plain": [
       "Validation: |          | 0/? [00:00<?, ?it/s]"
      ],
      "application/vnd.jupyter.widget-view+json": {
       "version_major": 2,
       "version_minor": 0,
       "model_id": "390b417279bc4a0da0b3b04b6a8c1d78"
      }
     },
     "metadata": {},
     "output_type": "display_data"
    },
    {
     "data": {
      "text/plain": [
       "Validation: |          | 0/? [00:00<?, ?it/s]"
      ],
      "application/vnd.jupyter.widget-view+json": {
       "version_major": 2,
       "version_minor": 0,
       "model_id": "677e1128fbca47f296317e1b9922a0e1"
      }
     },
     "metadata": {},
     "output_type": "display_data"
    },
    {
     "data": {
      "text/plain": [
       "Validation: |          | 0/? [00:00<?, ?it/s]"
      ],
      "application/vnd.jupyter.widget-view+json": {
       "version_major": 2,
       "version_minor": 0,
       "model_id": "344fd76c01ae4bc1802324812e8b3da0"
      }
     },
     "metadata": {},
     "output_type": "display_data"
    },
    {
     "data": {
      "text/plain": [
       "Validation: |          | 0/? [00:00<?, ?it/s]"
      ],
      "application/vnd.jupyter.widget-view+json": {
       "version_major": 2,
       "version_minor": 0,
       "model_id": "3f6e1767b0ad48ba96231040e780e384"
      }
     },
     "metadata": {},
     "output_type": "display_data"
    },
    {
     "data": {
      "text/plain": [
       "Validation: |          | 0/? [00:00<?, ?it/s]"
      ],
      "application/vnd.jupyter.widget-view+json": {
       "version_major": 2,
       "version_minor": 0,
       "model_id": "04a39152746447eab4baf2f09a1e79d4"
      }
     },
     "metadata": {},
     "output_type": "display_data"
    },
    {
     "data": {
      "text/plain": [
       "Validation: |          | 0/? [00:00<?, ?it/s]"
      ],
      "application/vnd.jupyter.widget-view+json": {
       "version_major": 2,
       "version_minor": 0,
       "model_id": "1d070817123c42fab3b48eb163071867"
      }
     },
     "metadata": {},
     "output_type": "display_data"
    },
    {
     "data": {
      "text/plain": [
       "Validation: |          | 0/? [00:00<?, ?it/s]"
      ],
      "application/vnd.jupyter.widget-view+json": {
       "version_major": 2,
       "version_minor": 0,
       "model_id": "1db71829058045039909669ad1fcc14f"
      }
     },
     "metadata": {},
     "output_type": "display_data"
    },
    {
     "data": {
      "text/plain": [
       "Validation: |          | 0/? [00:00<?, ?it/s]"
      ],
      "application/vnd.jupyter.widget-view+json": {
       "version_major": 2,
       "version_minor": 0,
       "model_id": "997fa75c8877482cbc509a37ae313e22"
      }
     },
     "metadata": {},
     "output_type": "display_data"
    },
    {
     "data": {
      "text/plain": [
       "Validation: |          | 0/? [00:00<?, ?it/s]"
      ],
      "application/vnd.jupyter.widget-view+json": {
       "version_major": 2,
       "version_minor": 0,
       "model_id": "90363fd2437e41fe84bd2b6d2a44616b"
      }
     },
     "metadata": {},
     "output_type": "display_data"
    },
    {
     "data": {
      "text/plain": [
       "Validation: |          | 0/? [00:00<?, ?it/s]"
      ],
      "application/vnd.jupyter.widget-view+json": {
       "version_major": 2,
       "version_minor": 0,
       "model_id": "bb026881af314b03aea5036d7e74e1ed"
      }
     },
     "metadata": {},
     "output_type": "display_data"
    },
    {
     "data": {
      "text/plain": [
       "Validation: |          | 0/? [00:00<?, ?it/s]"
      ],
      "application/vnd.jupyter.widget-view+json": {
       "version_major": 2,
       "version_minor": 0,
       "model_id": "26f5c200a2db4575b88c92060b25f541"
      }
     },
     "metadata": {},
     "output_type": "display_data"
    },
    {
     "data": {
      "text/plain": [
       "Validation: |          | 0/? [00:00<?, ?it/s]"
      ],
      "application/vnd.jupyter.widget-view+json": {
       "version_major": 2,
       "version_minor": 0,
       "model_id": "d1e26d515926400b9a943114bab7ac5a"
      }
     },
     "metadata": {},
     "output_type": "display_data"
    },
    {
     "data": {
      "text/plain": [
       "Validation: |          | 0/? [00:00<?, ?it/s]"
      ],
      "application/vnd.jupyter.widget-view+json": {
       "version_major": 2,
       "version_minor": 0,
       "model_id": "9ea690fb301a4cb49d9c3aafb7f00eee"
      }
     },
     "metadata": {},
     "output_type": "display_data"
    },
    {
     "data": {
      "text/plain": [
       "Validation: |          | 0/? [00:00<?, ?it/s]"
      ],
      "application/vnd.jupyter.widget-view+json": {
       "version_major": 2,
       "version_minor": 0,
       "model_id": "cf0abf69a81742369b7479aecba2d422"
      }
     },
     "metadata": {},
     "output_type": "display_data"
    },
    {
     "data": {
      "text/plain": [
       "Validation: |          | 0/? [00:00<?, ?it/s]"
      ],
      "application/vnd.jupyter.widget-view+json": {
       "version_major": 2,
       "version_minor": 0,
       "model_id": "2718062ce369478ba72a1f16377084ee"
      }
     },
     "metadata": {},
     "output_type": "display_data"
    },
    {
     "data": {
      "text/plain": [
       "Validation: |          | 0/? [00:00<?, ?it/s]"
      ],
      "application/vnd.jupyter.widget-view+json": {
       "version_major": 2,
       "version_minor": 0,
       "model_id": "eca77c80fc674a3899bdb5d1d26dd6b3"
      }
     },
     "metadata": {},
     "output_type": "display_data"
    },
    {
     "data": {
      "text/plain": [
       "Validation: |          | 0/? [00:00<?, ?it/s]"
      ],
      "application/vnd.jupyter.widget-view+json": {
       "version_major": 2,
       "version_minor": 0,
       "model_id": "ef5e7b99462f4675a70997b1f8435866"
      }
     },
     "metadata": {},
     "output_type": "display_data"
    },
    {
     "data": {
      "text/plain": [
       "Validation: |          | 0/? [00:00<?, ?it/s]"
      ],
      "application/vnd.jupyter.widget-view+json": {
       "version_major": 2,
       "version_minor": 0,
       "model_id": "d1ef3c0843844b219c09cab4cb336e1d"
      }
     },
     "metadata": {},
     "output_type": "display_data"
    },
    {
     "data": {
      "text/plain": [
       "Validation: |          | 0/? [00:00<?, ?it/s]"
      ],
      "application/vnd.jupyter.widget-view+json": {
       "version_major": 2,
       "version_minor": 0,
       "model_id": "dc2bccba345c43a5b7e9ae9599a3125c"
      }
     },
     "metadata": {},
     "output_type": "display_data"
    },
    {
     "data": {
      "text/plain": [
       "Validation: |          | 0/? [00:00<?, ?it/s]"
      ],
      "application/vnd.jupyter.widget-view+json": {
       "version_major": 2,
       "version_minor": 0,
       "model_id": "c26e4f83b4e04addb151596b0a139a64"
      }
     },
     "metadata": {},
     "output_type": "display_data"
    },
    {
     "data": {
      "text/plain": [
       "Validation: |          | 0/? [00:00<?, ?it/s]"
      ],
      "application/vnd.jupyter.widget-view+json": {
       "version_major": 2,
       "version_minor": 0,
       "model_id": "ccc5eed932f84dee8a9d4f9af4205f9b"
      }
     },
     "metadata": {},
     "output_type": "display_data"
    },
    {
     "data": {
      "text/plain": [
       "Validation: |          | 0/? [00:00<?, ?it/s]"
      ],
      "application/vnd.jupyter.widget-view+json": {
       "version_major": 2,
       "version_minor": 0,
       "model_id": "83a310e1782842c5a4a7511c5df0678f"
      }
     },
     "metadata": {},
     "output_type": "display_data"
    },
    {
     "data": {
      "text/plain": [
       "Validation: |          | 0/? [00:00<?, ?it/s]"
      ],
      "application/vnd.jupyter.widget-view+json": {
       "version_major": 2,
       "version_minor": 0,
       "model_id": "08597e4fab5f477ab2bdce7d4cec6be3"
      }
     },
     "metadata": {},
     "output_type": "display_data"
    },
    {
     "data": {
      "text/plain": [
       "Validation: |          | 0/? [00:00<?, ?it/s]"
      ],
      "application/vnd.jupyter.widget-view+json": {
       "version_major": 2,
       "version_minor": 0,
       "model_id": "6d0610ed46cc4b1f87a803f4836f5eee"
      }
     },
     "metadata": {},
     "output_type": "display_data"
    },
    {
     "data": {
      "text/plain": [
       "Validation: |          | 0/? [00:00<?, ?it/s]"
      ],
      "application/vnd.jupyter.widget-view+json": {
       "version_major": 2,
       "version_minor": 0,
       "model_id": "3c7de19546f24c3e995a0dc21ff6d44b"
      }
     },
     "metadata": {},
     "output_type": "display_data"
    },
    {
     "data": {
      "text/plain": [
       "Validation: |          | 0/? [00:00<?, ?it/s]"
      ],
      "application/vnd.jupyter.widget-view+json": {
       "version_major": 2,
       "version_minor": 0,
       "model_id": "b933767ac9814f709d4e313eff3d298c"
      }
     },
     "metadata": {},
     "output_type": "display_data"
    },
    {
     "data": {
      "text/plain": [
       "Validation: |          | 0/? [00:00<?, ?it/s]"
      ],
      "application/vnd.jupyter.widget-view+json": {
       "version_major": 2,
       "version_minor": 0,
       "model_id": "231bd0a73131422ca1683fe5128451dd"
      }
     },
     "metadata": {},
     "output_type": "display_data"
    },
    {
     "data": {
      "text/plain": [
       "Validation: |          | 0/? [00:00<?, ?it/s]"
      ],
      "application/vnd.jupyter.widget-view+json": {
       "version_major": 2,
       "version_minor": 0,
       "model_id": "be037878312f4471abcfd6a926c4edd7"
      }
     },
     "metadata": {},
     "output_type": "display_data"
    },
    {
     "data": {
      "text/plain": [
       "Validation: |          | 0/? [00:00<?, ?it/s]"
      ],
      "application/vnd.jupyter.widget-view+json": {
       "version_major": 2,
       "version_minor": 0,
       "model_id": "a4a2f7e5e63b4752b246c439a1b402ea"
      }
     },
     "metadata": {},
     "output_type": "display_data"
    },
    {
     "data": {
      "text/plain": [
       "Validation: |          | 0/? [00:00<?, ?it/s]"
      ],
      "application/vnd.jupyter.widget-view+json": {
       "version_major": 2,
       "version_minor": 0,
       "model_id": "996b457b672b4928bc3615faede68eb2"
      }
     },
     "metadata": {},
     "output_type": "display_data"
    },
    {
     "data": {
      "text/plain": [
       "Validation: |          | 0/? [00:00<?, ?it/s]"
      ],
      "application/vnd.jupyter.widget-view+json": {
       "version_major": 2,
       "version_minor": 0,
       "model_id": "fd5fa8ca06e74f8bb71198a2fe00d274"
      }
     },
     "metadata": {},
     "output_type": "display_data"
    },
    {
     "data": {
      "text/plain": [
       "Validation: |          | 0/? [00:00<?, ?it/s]"
      ],
      "application/vnd.jupyter.widget-view+json": {
       "version_major": 2,
       "version_minor": 0,
       "model_id": "c53e735dfa7c420bb9e68bf7d370ae37"
      }
     },
     "metadata": {},
     "output_type": "display_data"
    },
    {
     "data": {
      "text/plain": [
       "Validation: |          | 0/? [00:00<?, ?it/s]"
      ],
      "application/vnd.jupyter.widget-view+json": {
       "version_major": 2,
       "version_minor": 0,
       "model_id": "d38cfaeacea04ce5b82552c07295df2f"
      }
     },
     "metadata": {},
     "output_type": "display_data"
    },
    {
     "name": "stderr",
     "output_type": "stream",
     "text": [
      "`Trainer.fit` stopped: `max_epochs=50` reached.\n",
      "/opt/anaconda3/envs/thesis_env/lib/python3.10/site-packages/lightning/pytorch/trainer/connectors/data_connector.py:425: The 'predict_dataloader' does not have many workers which may be a bottleneck. Consider increasing the value of the `num_workers` argument` to `num_workers=11` in the `DataLoader` to improve performance.\n"
     ]
    },
    {
     "data": {
      "text/plain": [
       "Predicting: |          | 0/? [00:00<?, ?it/s]"
      ],
      "application/vnd.jupyter.widget-view+json": {
       "version_major": 2,
       "version_minor": 0,
       "model_id": "aaec01d7afd6495db14019ef5e4683cf"
      }
     },
     "metadata": {},
     "output_type": "display_data"
    },
    {
     "name": "stdout",
     "output_type": "stream",
     "text": [
      "Predict loss: 0.6696851253509521\n",
      "Predict ACC: 0.609375\n",
      "Predict loss: 0.6594215035438538\n",
      "Predict ACC: 0.71875\n",
      "Predict loss: 0.6524859070777893\n",
      "Predict ACC: 0.671875\n",
      "Predict loss: 0.6677553653717041\n",
      "Predict ACC: 0.375\n",
      "Running run_nimo_variant\n",
      "                    f1_test  precision_s  recall_s  n_selected\n",
      "model                                                         \n",
      "run_lasso          0.916201     0.384615       1.0          13\n",
      "run_lassonet       0.908046     0.625000       1.0           8\n",
      "run_random_forest  1.000000     0.000000       0.0          20\n",
      "run_neural_net     0.883721     0.000000       0.0          20\n",
      "run_nimo_baseline  0.615917     0.187500       0.6          16\n",
      "run_nimo_variant   0.915254     0.294118       1.0          17\n"
     ]
    },
    {
     "data": {
      "text/plain": [
       "<Figure size 800x400 with 1 Axes>"
      ],
      "image/png": "[encoded data removed]"
     },
     "metadata": {},
     "output_type": "display_data"
    },
    {
     "name": "stdout",
     "output_type": "stream",
     "text": [
      "Feature Selection Confusion Matrices:\n",
      "============================================================\n"
     ]
    },
    {
     "data": {
      "text/plain": [
       "<Figure size 600x400 with 2 Axes>"
      ],
      "image/png": "[encoded data removed]"
     },
     "metadata": {},
     "output_type": "display_data"
    },
    {
     "data": {
      "text/plain": [
       "<Figure size 600x400 with 2 Axes>"
      ],
      "image/png": "[encoded data removed]"
     },
     "metadata": {},
     "output_type": "display_data"
    },
    {
     "name": "stdout",
     "output_type": "stream",
     "text": [
      "run_random_forest does not perform feature selection, skipping.\n",
      "run_neural_net does not perform feature selection, skipping.\n"
     ]
    },
    {
     "data": {
      "text/plain": [
       "<Figure size 600x400 with 2 Axes>"
      ],
      "image/png": "[encoded data removed]"
     },
     "metadata": {},
     "output_type": "display_data"
    },
    {
     "data": {
      "text/plain": [
       "<Figure size 600x400 with 2 Axes>"
      ],
      "image/png": "[encoded data removed]"
     },
     "metadata": {},
     "output_type": "display_data"
    },
    {
     "name": "stdout",
     "output_type": "stream",
     "text": [
      "Feature Selection Summary:\n",
      "============================================================\n",
      "True support features: [0, 1, 8, 15, 17]\n",
      "\n",
      "run_lasso:\n",
      "  Selected features: [0, 1, 2, 4, 8, 9, 11, 13, 15, 16, 17, 18, 19]\n",
      "  Number selected: 13\n",
      "\n",
      "run_lassonet:\n",
      "  Selected features: [0, 1, 2, 8, 15, 16, 17, 18]\n",
      "  Number selected: 8\n",
      "\n",
      "run_random_forest:\n",
      "  Selected features: [0, 1, 2, 3, 4, 5, 6, 7, 8, 9, 10, 11, 12, 13, 14, 15, 16, 17, 18, 19]\n",
      "  Number selected: 20\n",
      "\n",
      "run_neural_net:\n",
      "  Selected features: [0, 1, 2, 3, 4, 5, 6, 7, 8, 9, 10, 11, 12, 13, 14, 15, 16, 17, 18, 19]\n",
      "  Number selected: 20\n",
      "\n",
      "run_nimo_baseline:\n",
      "  Selected features: [0, 1, 2, 3, 4, 5, 6, 7, 9, 10, 12, 13, 15, 16, 18, 19]\n",
      "  Number selected: 16\n",
      "\n",
      "run_nimo_variant:\n",
      "  Selected features: [0, 1, 2, 3, 4, 6, 7, 8, 9, 10, 12, 13, 15, 16, 17, 18, 19]\n",
      "  Number selected: 17\n",
      "\n",
      "Analysis complete!\n"
     ]
    }
   ],
   "execution_count": 3
  },
  {
   "metadata": {},
   "cell_type": "code",
   "outputs": [],
   "execution_count": null,
   "source": "",
   "id": "28d4e1bf46014122"
  }
 ],
 "metadata": {
  "kernelspec": {
   "display_name": "Python 3",
   "language": "python",
   "name": "python3"
  },
  "language_info": {
   "codemirror_mode": {
    "name": "ipython",
    "version": 2
   },
   "file_extension": ".py",
   "mimetype": "text/x-python",
   "name": "python",
   "nbconvert_exporter": "python",
   "pygments_lexer": "ipython2",
   "version": "2.7.6"
  }
 },
 "nbformat": 4,
 "nbformat_minor": 5
}
