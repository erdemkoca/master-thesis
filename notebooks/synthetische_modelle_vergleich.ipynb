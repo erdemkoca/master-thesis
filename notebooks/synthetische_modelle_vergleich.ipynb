{
 "cells": [
  {
   "metadata": {
    "ExecuteTime": {
     "end_time": "2025-07-24T09:58:29.807963Z",
     "start_time": "2025-07-24T09:57:55.969583Z"
    }
   },
   "cell_type": "code",
   "source": [
    "# Cell 1 – Imports und Setup\n",
    "import numpy as np\n",
    "import matplotlib.pyplot as plt\n",
    "import pandas as pd\n",
    "import seaborn as sns\n",
    "\n",
    "from sklearn.metrics import f1_score, precision_score, recall_score\n",
    "\n",
    "from methods.lasso          import run_lasso\n",
    "from methods.lasso_Net     import run_lassonet\n",
    "from methods.random_forest  import run_random_forest\n",
    "from methods.neural_net     import run_neural_net\n",
    "from methods.nimo           import run_nimo\n",
    "from methods.run_nimo_official import run_nimo_official\n",
    "\n",
    "# Cell 1 – Synthetische Daten erzeugen (neu)\n",
    "import numpy as np\n",
    "from scipy.special import expit\n",
    "\n",
    "np.random.seed(42)\n",
    "n, d, k = 200, 20, 5\n",
    "beta_true = np.zeros(d)\n",
    "support   = np.random.choice(d, size=k, replace=False)\n",
    "beta_true[support] = np.random.uniform(1.0, 3.0, size=k)\n",
    "X = np.random.randn(n, d)\n",
    "p = expit(X.dot(beta_true))\n",
    "y = np.random.binomial(1, p)\n",
    "\n",
    "\n",
    "# ============================================================================\n",
    "# CELL 2: Add visualization functions (add this as a new cell)\n",
    "# ============================================================================\n",
    "def plot_support_confusion(out, support, d, method_name):\n",
    "    \"\"\"\n",
    "    Plot feature-level confusion matrix for support recovery.\n",
    "    \"\"\"\n",
    "    selected_features = out.get('selected_features', [])\n",
    "\n",
    "    # Convert feature names to indices if needed\n",
    "    if selected_features and isinstance(selected_features[0], str):\n",
    "        selected_indices = [int(f.split('_')[-1]) if '_' in f else int(f) for f in selected_features]\n",
    "    else:\n",
    "        selected_indices = selected_features\n",
    "\n",
    "    # Create binary vectors\n",
    "    true_support_vec = np.zeros(d)\n",
    "    true_support_vec[support] = 1\n",
    "\n",
    "    predicted_support_vec = np.zeros(d)\n",
    "    predicted_support_vec[selected_indices] = 1\n",
    "\n",
    "    # Calculate confusion matrix\n",
    "    tp = np.sum((true_support_vec == 1) & (predicted_support_vec == 1))\n",
    "    tn = np.sum((true_support_vec == 0) & (predicted_support_vec == 0))\n",
    "    fp = np.sum((true_support_vec == 0) & (predicted_support_vec == 1))\n",
    "    fn = np.sum((true_support_vec == 1) & (predicted_support_vec == 0))\n",
    "\n",
    "    # Create confusion matrix\n",
    "    conf_matrix = np.array([[tn, fp], [fn, tp]])\n",
    "\n",
    "    # Plot heatmap\n",
    "    plt.figure(figsize=(6, 4))\n",
    "    sns.heatmap(conf_matrix, annot=True, fmt='d', cmap='Blues',\n",
    "                xticklabels=['Not Selected', 'Selected'],\n",
    "                yticklabels=['Not in True Support', 'In True Support'])\n",
    "    plt.title(f'Feature Selection Confusion Matrix - {method_name}')\n",
    "    plt.ylabel('True Support')\n",
    "    plt.xlabel('Predicted Selection')\n",
    "    plt.tight_layout()\n",
    "    plt.show()\n",
    "\n",
    "def plot_feature_selection_patterns(methods, all_results_dicts, d):\n",
    "    \"\"\"\n",
    "    Plot stacked barplot showing feature selection patterns across methods.\n",
    "    \"\"\"\n",
    "    # Build DataFrame for stacked barplot\n",
    "    df_sel = pd.DataFrame({\n",
    "        method.__name__: [int(j in result['selected_features']) for j in range(d)]\n",
    "        for method, result in zip(methods, all_results_dicts)\n",
    "    })\n",
    "\n",
    "    # Plot stacked bar chart\n",
    "    plt.figure(figsize=(16, 8))\n",
    "    ax = df_sel.plot(kind='bar', stacked=True, figsize=(16, 8))\n",
    "    ax.set_xlabel(\"Feature Index\")\n",
    "    ax.set_ylabel(\"Selected (1) vs. Not-Selected (0)\")\n",
    "    ax.legend(title=\"Method\", bbox_to_anchor=(1.02, 1))\n",
    "    plt.title(\"Feature Selection Patterns Across Methods\")\n",
    "    plt.xticks(range(d), [f\"F{i}\" for i in range(d)], rotation=45)\n",
    "    plt.tight_layout()\n",
    "    plt.show()\n",
    "\n",
    "def print_feature_selection_summary(methods, all_results_dicts, support):\n",
    "    \"\"\"\n",
    "    Print detailed feature selection summary.\n",
    "    \"\"\"\n",
    "    print(\"Feature Selection Summary:\")\n",
    "    print(\"=\" * 60)\n",
    "    print(f\"True support features: {sorted(support)}\")\n",
    "    print()\n",
    "    for method, result in zip(methods, all_results_dicts):\n",
    "        selected = result['selected_features']\n",
    "        print(f\"{method.__name__}:\")\n",
    "        print(f\"  Selected features: {sorted(selected)}\")\n",
    "        print(f\"  Number selected: {len(selected)}\")\n",
    "        print()\n",
    "\n",
    "# ============================================================================\n",
    "# CELL 3: Modify your eval_method function to store full results (replace existing)\n",
    "# ============================================================================\n",
    "def eval_method(fn, X_tr, y_tr, X_te, y_te, **kwargs):\n",
    "    out = fn(\n",
    "        X_tr, y_tr, X_te, y_te,\n",
    "        rng=None,\n",
    "        iteration=0,\n",
    "        randomState=0,\n",
    "        X_columns=list(range(d)),\n",
    "        **kwargs\n",
    "    )\n",
    "    # F1 auf Test\n",
    "    f1 = out.get('best_f1', np.nan)\n",
    "    # Sparsity\n",
    "    n_sel = out.get('n_selected', 0)\n",
    "    # Support-Recovery Precision/Recall (nur wenn Methode Selektion hat)\n",
    "    if out.get('method_has_selection', False):\n",
    "        recov = set(out['selected_features'])\n",
    "        true_supp = set(support)\n",
    "        prec = precision_score(\n",
    "            [1 if i in true_supp else 0 for i in range(d)],\n",
    "            [1 if i in recov   else 0 for i in range(d)],\n",
    "            zero_division=0\n",
    "        )\n",
    "        rec = recall_score(\n",
    "            [1 if i in true_supp else 0 for i in range(d)],\n",
    "            [1 if i in recov   else 0 for i in range(d)],\n",
    "            zero_division=0\n",
    "        )\n",
    "    else:\n",
    "        prec = rec = 0.0\n",
    "\n",
    "    return {\n",
    "        'model':       fn.__name__,\n",
    "        'f1_test':     f1,\n",
    "        'precision_s': prec,\n",
    "        'recall_s':    rec,\n",
    "        'n_selected':  n_sel,\n",
    "        'out':         out  # Store full output for confusion matrix\n",
    "    }\n",
    "\n",
    "# ============================================================================\n",
    "# STEP 4: Modify your method evaluation loop to store full results\n",
    "# ============================================================================\n",
    "methods = [\n",
    "    run_lasso,\n",
    "    run_lassonet,\n",
    "    run_random_forest,\n",
    "    run_neural_net,\n",
    "    run_nimo,\n",
    "    run_nimo_official\n",
    "]\n",
    "\n",
    "results = []\n",
    "all_results_dicts = []  # Store full results for visualizations\n",
    "for m in methods:\n",
    "    print(\"Running\", m.__name__)\n",
    "    res = eval_method(m, X, y, X, y)\n",
    "    results.append(res)\n",
    "    all_results_dicts.append(res['out'])\n",
    "\n",
    "df_res = pd.DataFrame([{k: v for k, v in r.items() if k != 'out'} for r in results]).set_index('model')\n",
    "df_res\n",
    "\n",
    "# ============================================================================\n",
    "# STEP 5: Add F1 accuracy plot (this is what you wanted!)\n",
    "# ============================================================================\n",
    "\"\"\"\n",
    "Add this as a new cell after your existing plots:\n",
    "\"\"\"\n",
    "plt.figure(figsize=(8, 4))\n",
    "df_res['f1_test'].sort_values().plot(kind='barh')\n",
    "plt.xlabel(\"F1 on synthetic data\")\n",
    "plt.xlim(0, 1)\n",
    "plt.title(\"F1 Score Comparison\")\n",
    "plt.tight_layout()\n",
    "plt.show()\n",
    "\n",
    "# ============================================================================\n",
    "# STEP 6: Add confusion matrices (new cell)\n",
    "# ============================================================================\n",
    "print(\"Feature Selection Confusion Matrices:\")\n",
    "print(\"=\" * 60)\n",
    "for method, result in zip(methods, all_results_dicts):\n",
    "    if result.get('method_has_selection', True):\n",
    "        plot_support_confusion(result, support, d, method.__name__)\n",
    "    else:\n",
    "        print(f\"{method.__name__} does not perform feature selection, skipping.\")\n",
    "\n",
    "\n",
    "print(\"Analysis complete!\")"
   ],
   "id": "23b681207b3a28e2",
   "outputs": [
    {
     "name": "stdout",
     "output_type": "stream",
     "text": [
      "Running run_lasso\n",
      "Running run_lassonet\n"
     ]
    },
    {
     "name": "stderr",
     "output_type": "stream",
     "text": [
      "Choosing lambda with cross-validation: 100%|██████████| 5/5 [00:27<00:00,  5.54s/it]\n"
     ]
    },
    {
     "name": "stdout",
     "output_type": "stream",
     "text": [
      "Running run_random_forest\n",
      "Running run_neural_net\n"
     ]
    },
    {
     "name": "stderr",
     "output_type": "stream",
     "text": [
      "GPU available: True (mps), used: False\n",
      "TPU available: False, using: 0 TPU cores\n",
      "HPU available: False, using: 0 HPUs\n"
     ]
    },
    {
     "name": "stdout",
     "output_type": "stream",
     "text": [
      "[NeuralNet] seed=0, hidden=128, dropout=0.3\n",
      "Running run_nimo\n",
      "Running run_nimo_official\n"
     ]
    },
    {
     "name": "stderr",
     "output_type": "stream",
     "text": [
      "/opt/anaconda3/envs/thesis_env/lib/python3.10/site-packages/lightning/pytorch/trainer/setup.py:177: GPU available but not used. You can set it by doing `Trainer(accelerator='gpu')`.\n"
     ]
    },
    {
     "data": {
      "text/plain": [
       "Sanity Checking: |          | 0/? [00:00<?, ?it/s]"
      ],
      "application/vnd.jupyter.widget-view+json": {
       "version_major": 2,
       "version_minor": 0,
       "model_id": "fd951ade501c4931b60b40b3c0120273"
      }
     },
     "metadata": {},
     "output_type": "display_data"
    },
    {
     "name": "stderr",
     "output_type": "stream",
     "text": [
      "/opt/anaconda3/envs/thesis_env/lib/python3.10/site-packages/lightning/pytorch/trainer/connectors/data_connector.py:425: The 'val_dataloader' does not have many workers which may be a bottleneck. Consider increasing the value of the `num_workers` argument` to `num_workers=11` in the `DataLoader` to improve performance.\n",
      "/opt/anaconda3/envs/thesis_env/lib/python3.10/site-packages/lightning/pytorch/trainer/connectors/data_connector.py:425: The 'train_dataloader' does not have many workers which may be a bottleneck. Consider increasing the value of the `num_workers` argument` to `num_workers=11` in the `DataLoader` to improve performance.\n"
     ]
    },
    {
     "data": {
      "text/plain": [
       "Training: |          | 0/? [00:00<?, ?it/s]"
      ],
      "application/vnd.jupyter.widget-view+json": {
       "version_major": 2,
       "version_minor": 0,
       "model_id": "d22c70a964974d8abe8fc87f57120010"
      }
     },
     "metadata": {},
     "output_type": "display_data"
    },
    {
     "data": {
      "text/plain": [
       "Validation: |          | 0/? [00:00<?, ?it/s]"
      ],
      "application/vnd.jupyter.widget-view+json": {
       "version_major": 2,
       "version_minor": 0,
       "model_id": "f7f1a4321a6a42799ce4f2fed049674b"
      }
     },
     "metadata": {},
     "output_type": "display_data"
    },
    {
     "data": {
      "text/plain": [
       "Validation: |          | 0/? [00:00<?, ?it/s]"
      ],
      "application/vnd.jupyter.widget-view+json": {
       "version_major": 2,
       "version_minor": 0,
       "model_id": "b96f7bdf6c4f44ef9f8f14aab9c467b5"
      }
     },
     "metadata": {},
     "output_type": "display_data"
    },
    {
     "data": {
      "text/plain": [
       "Validation: |          | 0/? [00:00<?, ?it/s]"
      ],
      "application/vnd.jupyter.widget-view+json": {
       "version_major": 2,
       "version_minor": 0,
       "model_id": "975146cfb18f4322996bdf4867e2e000"
      }
     },
     "metadata": {},
     "output_type": "display_data"
    },
    {
     "data": {
      "text/plain": [
       "Validation: |          | 0/? [00:00<?, ?it/s]"
      ],
      "application/vnd.jupyter.widget-view+json": {
       "version_major": 2,
       "version_minor": 0,
       "model_id": "becd762105674e7c9d51d3f339f0bf02"
      }
     },
     "metadata": {},
     "output_type": "display_data"
    },
    {
     "data": {
      "text/plain": [
       "Validation: |          | 0/? [00:00<?, ?it/s]"
      ],
      "application/vnd.jupyter.widget-view+json": {
       "version_major": 2,
       "version_minor": 0,
       "model_id": "7347237538ef49018b6e0583ea38c59e"
      }
     },
     "metadata": {},
     "output_type": "display_data"
    },
    {
     "data": {
      "text/plain": [
       "Validation: |          | 0/? [00:00<?, ?it/s]"
      ],
      "application/vnd.jupyter.widget-view+json": {
       "version_major": 2,
       "version_minor": 0,
       "model_id": "44fe1e345b3743048f77e8dccaf484d7"
      }
     },
     "metadata": {},
     "output_type": "display_data"
    },
    {
     "data": {
      "text/plain": [
       "Validation: |          | 0/? [00:00<?, ?it/s]"
      ],
      "application/vnd.jupyter.widget-view+json": {
       "version_major": 2,
       "version_minor": 0,
       "model_id": "1694b316aba048afbdc8a5b6e446681b"
      }
     },
     "metadata": {},
     "output_type": "display_data"
    },
    {
     "data": {
      "text/plain": [
       "Validation: |          | 0/? [00:00<?, ?it/s]"
      ],
      "application/vnd.jupyter.widget-view+json": {
       "version_major": 2,
       "version_minor": 0,
       "model_id": "3f67ee228f4845ef81f8efd88955b632"
      }
     },
     "metadata": {},
     "output_type": "display_data"
    },
    {
     "data": {
      "text/plain": [
       "Validation: |          | 0/? [00:00<?, ?it/s]"
      ],
      "application/vnd.jupyter.widget-view+json": {
       "version_major": 2,
       "version_minor": 0,
       "model_id": "2bd7100014ab4fa2a56949b0d46cd141"
      }
     },
     "metadata": {},
     "output_type": "display_data"
    },
    {
     "data": {
      "text/plain": [
       "Validation: |          | 0/? [00:00<?, ?it/s]"
      ],
      "application/vnd.jupyter.widget-view+json": {
       "version_major": 2,
       "version_minor": 0,
       "model_id": "f43ea64ee1264215a3ed7acd06bca03c"
      }
     },
     "metadata": {},
     "output_type": "display_data"
    },
    {
     "data": {
      "text/plain": [
       "Validation: |          | 0/? [00:00<?, ?it/s]"
      ],
      "application/vnd.jupyter.widget-view+json": {
       "version_major": 2,
       "version_minor": 0,
       "model_id": "411d9d7869f24d6cbd508404c1abf53e"
      }
     },
     "metadata": {},
     "output_type": "display_data"
    },
    {
     "data": {
      "text/plain": [
       "Validation: |          | 0/? [00:00<?, ?it/s]"
      ],
      "application/vnd.jupyter.widget-view+json": {
       "version_major": 2,
       "version_minor": 0,
       "model_id": "2276af0d91d343d79d523b280770b2ff"
      }
     },
     "metadata": {},
     "output_type": "display_data"
    },
    {
     "data": {
      "text/plain": [
       "Validation: |          | 0/? [00:00<?, ?it/s]"
      ],
      "application/vnd.jupyter.widget-view+json": {
       "version_major": 2,
       "version_minor": 0,
       "model_id": "bcb876d2019d4021ba09f7b23b9e46b2"
      }
     },
     "metadata": {},
     "output_type": "display_data"
    },
    {
     "data": {
      "text/plain": [
       "Validation: |          | 0/? [00:00<?, ?it/s]"
      ],
      "application/vnd.jupyter.widget-view+json": {
       "version_major": 2,
       "version_minor": 0,
       "model_id": "777ce0eedba94f2cb6372fd04b03276c"
      }
     },
     "metadata": {},
     "output_type": "display_data"
    },
    {
     "data": {
      "text/plain": [
       "Validation: |          | 0/? [00:00<?, ?it/s]"
      ],
      "application/vnd.jupyter.widget-view+json": {
       "version_major": 2,
       "version_minor": 0,
       "model_id": "93e2e253ef8b4b03ba0bda9735230fa3"
      }
     },
     "metadata": {},
     "output_type": "display_data"
    },
    {
     "data": {
      "text/plain": [
       "Validation: |          | 0/? [00:00<?, ?it/s]"
      ],
      "application/vnd.jupyter.widget-view+json": {
       "version_major": 2,
       "version_minor": 0,
       "model_id": "3b6b1078253d476e8551258e0fcaddb3"
      }
     },
     "metadata": {},
     "output_type": "display_data"
    },
    {
     "data": {
      "text/plain": [
       "Validation: |          | 0/? [00:00<?, ?it/s]"
      ],
      "application/vnd.jupyter.widget-view+json": {
       "version_major": 2,
       "version_minor": 0,
       "model_id": "5c544eb48d774dd7aa17a6b177feb2bc"
      }
     },
     "metadata": {},
     "output_type": "display_data"
    },
    {
     "data": {
      "text/plain": [
       "Validation: |          | 0/? [00:00<?, ?it/s]"
      ],
      "application/vnd.jupyter.widget-view+json": {
       "version_major": 2,
       "version_minor": 0,
       "model_id": "8c0536cf17de4eb496f1472a27e1deb9"
      }
     },
     "metadata": {},
     "output_type": "display_data"
    },
    {
     "data": {
      "text/plain": [
       "Validation: |          | 0/? [00:00<?, ?it/s]"
      ],
      "application/vnd.jupyter.widget-view+json": {
       "version_major": 2,
       "version_minor": 0,
       "model_id": "f85bfaba74914339ae8d55c48fc27c61"
      }
     },
     "metadata": {},
     "output_type": "display_data"
    },
    {
     "data": {
      "text/plain": [
       "Validation: |          | 0/? [00:00<?, ?it/s]"
      ],
      "application/vnd.jupyter.widget-view+json": {
       "version_major": 2,
       "version_minor": 0,
       "model_id": "21942e4a9ff74b0cbc0b08bf67db2a9d"
      }
     },
     "metadata": {},
     "output_type": "display_data"
    },
    {
     "data": {
      "text/plain": [
       "Validation: |          | 0/? [00:00<?, ?it/s]"
      ],
      "application/vnd.jupyter.widget-view+json": {
       "version_major": 2,
       "version_minor": 0,
       "model_id": "48ade6279ab74fe59cf8cc4e65179369"
      }
     },
     "metadata": {},
     "output_type": "display_data"
    },
    {
     "data": {
      "text/plain": [
       "Validation: |          | 0/? [00:00<?, ?it/s]"
      ],
      "application/vnd.jupyter.widget-view+json": {
       "version_major": 2,
       "version_minor": 0,
       "model_id": "ebc5b6a314074a59a2e5e21350ef0ce5"
      }
     },
     "metadata": {},
     "output_type": "display_data"
    },
    {
     "data": {
      "text/plain": [
       "Validation: |          | 0/? [00:00<?, ?it/s]"
      ],
      "application/vnd.jupyter.widget-view+json": {
       "version_major": 2,
       "version_minor": 0,
       "model_id": "5ece6edd408b4ec587d6a0a4029da157"
      }
     },
     "metadata": {},
     "output_type": "display_data"
    },
    {
     "data": {
      "text/plain": [
       "Validation: |          | 0/? [00:00<?, ?it/s]"
      ],
      "application/vnd.jupyter.widget-view+json": {
       "version_major": 2,
       "version_minor": 0,
       "model_id": "1b791418a0b4480b85cead030e648127"
      }
     },
     "metadata": {},
     "output_type": "display_data"
    },
    {
     "data": {
      "text/plain": [
       "Validation: |          | 0/? [00:00<?, ?it/s]"
      ],
      "application/vnd.jupyter.widget-view+json": {
       "version_major": 2,
       "version_minor": 0,
       "model_id": "c67881e67c9948728b8b4a76e4906a1d"
      }
     },
     "metadata": {},
     "output_type": "display_data"
    },
    {
     "data": {
      "text/plain": [
       "Validation: |          | 0/? [00:00<?, ?it/s]"
      ],
      "application/vnd.jupyter.widget-view+json": {
       "version_major": 2,
       "version_minor": 0,
       "model_id": "c4226f83457c41308e1c331fafb52972"
      }
     },
     "metadata": {},
     "output_type": "display_data"
    },
    {
     "data": {
      "text/plain": [
       "Validation: |          | 0/? [00:00<?, ?it/s]"
      ],
      "application/vnd.jupyter.widget-view+json": {
       "version_major": 2,
       "version_minor": 0,
       "model_id": "2159abb5fa784972880e52a82c9df7a0"
      }
     },
     "metadata": {},
     "output_type": "display_data"
    },
    {
     "data": {
      "text/plain": [
       "Validation: |          | 0/? [00:00<?, ?it/s]"
      ],
      "application/vnd.jupyter.widget-view+json": {
       "version_major": 2,
       "version_minor": 0,
       "model_id": "65dbc3149b6c4019a8b7f5f33be1f197"
      }
     },
     "metadata": {},
     "output_type": "display_data"
    },
    {
     "data": {
      "text/plain": [
       "Validation: |          | 0/? [00:00<?, ?it/s]"
      ],
      "application/vnd.jupyter.widget-view+json": {
       "version_major": 2,
       "version_minor": 0,
       "model_id": "f1b15305422e4ad1b9510448e36ad089"
      }
     },
     "metadata": {},
     "output_type": "display_data"
    },
    {
     "data": {
      "text/plain": [
       "Validation: |          | 0/? [00:00<?, ?it/s]"
      ],
      "application/vnd.jupyter.widget-view+json": {
       "version_major": 2,
       "version_minor": 0,
       "model_id": "64e333a99e4f469281838130ec3f188a"
      }
     },
     "metadata": {},
     "output_type": "display_data"
    },
    {
     "data": {
      "text/plain": [
       "Validation: |          | 0/? [00:00<?, ?it/s]"
      ],
      "application/vnd.jupyter.widget-view+json": {
       "version_major": 2,
       "version_minor": 0,
       "model_id": "c07b151882c94aa6b3b4d4240a1b377c"
      }
     },
     "metadata": {},
     "output_type": "display_data"
    },
    {
     "data": {
      "text/plain": [
       "Validation: |          | 0/? [00:00<?, ?it/s]"
      ],
      "application/vnd.jupyter.widget-view+json": {
       "version_major": 2,
       "version_minor": 0,
       "model_id": "f7801adf860b4a178881b5f6f7f6eb89"
      }
     },
     "metadata": {},
     "output_type": "display_data"
    },
    {
     "data": {
      "text/plain": [
       "Validation: |          | 0/? [00:00<?, ?it/s]"
      ],
      "application/vnd.jupyter.widget-view+json": {
       "version_major": 2,
       "version_minor": 0,
       "model_id": "e37b742d202849e0a44d0bdbc5e6c106"
      }
     },
     "metadata": {},
     "output_type": "display_data"
    },
    {
     "data": {
      "text/plain": [
       "Validation: |          | 0/? [00:00<?, ?it/s]"
      ],
      "application/vnd.jupyter.widget-view+json": {
       "version_major": 2,
       "version_minor": 0,
       "model_id": "a19d9a217c804d41812d4ec30fb8c14c"
      }
     },
     "metadata": {},
     "output_type": "display_data"
    },
    {
     "data": {
      "text/plain": [
       "Validation: |          | 0/? [00:00<?, ?it/s]"
      ],
      "application/vnd.jupyter.widget-view+json": {
       "version_major": 2,
       "version_minor": 0,
       "model_id": "a63bbc60ea5045d382f26f044d7645c7"
      }
     },
     "metadata": {},
     "output_type": "display_data"
    },
    {
     "data": {
      "text/plain": [
       "Validation: |          | 0/? [00:00<?, ?it/s]"
      ],
      "application/vnd.jupyter.widget-view+json": {
       "version_major": 2,
       "version_minor": 0,
       "model_id": "51fa8af9a7f347a29bde8e7d4c485082"
      }
     },
     "metadata": {},
     "output_type": "display_data"
    },
    {
     "data": {
      "text/plain": [
       "Validation: |          | 0/? [00:00<?, ?it/s]"
      ],
      "application/vnd.jupyter.widget-view+json": {
       "version_major": 2,
       "version_minor": 0,
       "model_id": "5a720040ea524db39450f8d6c64ef18f"
      }
     },
     "metadata": {},
     "output_type": "display_data"
    },
    {
     "data": {
      "text/plain": [
       "Validation: |          | 0/? [00:00<?, ?it/s]"
      ],
      "application/vnd.jupyter.widget-view+json": {
       "version_major": 2,
       "version_minor": 0,
       "model_id": "94dc76381df84de3985a65434ce9148e"
      }
     },
     "metadata": {},
     "output_type": "display_data"
    },
    {
     "data": {
      "text/plain": [
       "Validation: |          | 0/? [00:00<?, ?it/s]"
      ],
      "application/vnd.jupyter.widget-view+json": {
       "version_major": 2,
       "version_minor": 0,
       "model_id": "86ade6e31829447eb820d492215cb4c2"
      }
     },
     "metadata": {},
     "output_type": "display_data"
    },
    {
     "data": {
      "text/plain": [
       "Validation: |          | 0/? [00:00<?, ?it/s]"
      ],
      "application/vnd.jupyter.widget-view+json": {
       "version_major": 2,
       "version_minor": 0,
       "model_id": "c721f0cf3077437595fdede3f66332a2"
      }
     },
     "metadata": {},
     "output_type": "display_data"
    },
    {
     "data": {
      "text/plain": [
       "Validation: |          | 0/? [00:00<?, ?it/s]"
      ],
      "application/vnd.jupyter.widget-view+json": {
       "version_major": 2,
       "version_minor": 0,
       "model_id": "5e1749382e9e4f239257ac5689eddc2b"
      }
     },
     "metadata": {},
     "output_type": "display_data"
    },
    {
     "data": {
      "text/plain": [
       "Validation: |          | 0/? [00:00<?, ?it/s]"
      ],
      "application/vnd.jupyter.widget-view+json": {
       "version_major": 2,
       "version_minor": 0,
       "model_id": "435c82c737e349de83d9a9b155a214a1"
      }
     },
     "metadata": {},
     "output_type": "display_data"
    },
    {
     "data": {
      "text/plain": [
       "Validation: |          | 0/? [00:00<?, ?it/s]"
      ],
      "application/vnd.jupyter.widget-view+json": {
       "version_major": 2,
       "version_minor": 0,
       "model_id": "75c9ffa8347c4728b4480aaba53c0b7c"
      }
     },
     "metadata": {},
     "output_type": "display_data"
    },
    {
     "data": {
      "text/plain": [
       "Validation: |          | 0/? [00:00<?, ?it/s]"
      ],
      "application/vnd.jupyter.widget-view+json": {
       "version_major": 2,
       "version_minor": 0,
       "model_id": "44332d814d1b441894a06f0606270fc2"
      }
     },
     "metadata": {},
     "output_type": "display_data"
    },
    {
     "data": {
      "text/plain": [
       "Validation: |          | 0/? [00:00<?, ?it/s]"
      ],
      "application/vnd.jupyter.widget-view+json": {
       "version_major": 2,
       "version_minor": 0,
       "model_id": "07b3435d5bbb4d04a27e97308fb90c1a"
      }
     },
     "metadata": {},
     "output_type": "display_data"
    },
    {
     "data": {
      "text/plain": [
       "Validation: |          | 0/? [00:00<?, ?it/s]"
      ],
      "application/vnd.jupyter.widget-view+json": {
       "version_major": 2,
       "version_minor": 0,
       "model_id": "d054b98afacf4aa1b76bc8ba8730105d"
      }
     },
     "metadata": {},
     "output_type": "display_data"
    },
    {
     "data": {
      "text/plain": [
       "Validation: |          | 0/? [00:00<?, ?it/s]"
      ],
      "application/vnd.jupyter.widget-view+json": {
       "version_major": 2,
       "version_minor": 0,
       "model_id": "9668c1cd291d461ea239b297d2381e15"
      }
     },
     "metadata": {},
     "output_type": "display_data"
    },
    {
     "data": {
      "text/plain": [
       "Validation: |          | 0/? [00:00<?, ?it/s]"
      ],
      "application/vnd.jupyter.widget-view+json": {
       "version_major": 2,
       "version_minor": 0,
       "model_id": "bee8ced8723e4eb5813fccaca01382e0"
      }
     },
     "metadata": {},
     "output_type": "display_data"
    },
    {
     "data": {
      "text/plain": [
       "Validation: |          | 0/? [00:00<?, ?it/s]"
      ],
      "application/vnd.jupyter.widget-view+json": {
       "version_major": 2,
       "version_minor": 0,
       "model_id": "04aa4c2e75bb4a7c894e74eeb81aeb4b"
      }
     },
     "metadata": {},
     "output_type": "display_data"
    },
    {
     "data": {
      "text/plain": [
       "Validation: |          | 0/? [00:00<?, ?it/s]"
      ],
      "application/vnd.jupyter.widget-view+json": {
       "version_major": 2,
       "version_minor": 0,
       "model_id": "eb7f200b507e470b958cf3446fb9bfc4"
      }
     },
     "metadata": {},
     "output_type": "display_data"
    },
    {
     "name": "stderr",
     "output_type": "stream",
     "text": [
      "`Trainer.fit` stopped: `max_epochs=50` reached.\n",
      "/opt/anaconda3/envs/thesis_env/lib/python3.10/site-packages/lightning/pytorch/trainer/connectors/data_connector.py:425: The 'predict_dataloader' does not have many workers which may be a bottleneck. Consider increasing the value of the `num_workers` argument` to `num_workers=11` in the `DataLoader` to improve performance.\n"
     ]
    },
    {
     "data": {
      "text/plain": [
       "Predicting: |          | 0/? [00:00<?, ?it/s]"
      ],
      "application/vnd.jupyter.widget-view+json": {
       "version_major": 2,
       "version_minor": 0,
       "model_id": "4c7b5cfa4eec421a95c19b82dbae97a2"
      }
     },
     "metadata": {},
     "output_type": "display_data"
    },
    {
     "name": "stdout",
     "output_type": "stream",
     "text": [
      "Predict loss: 0.6696851253509521\n",
      "Predict ACC: 0.609375\n",
      "Predict loss: 0.6594215035438538\n",
      "Predict ACC: 0.71875\n",
      "Predict loss: 0.6524859070777893\n",
      "Predict ACC: 0.671875\n",
      "Predict loss: 0.6677553653717041\n",
      "Predict ACC: 0.375\n"
     ]
    },
    {
     "data": {
      "text/plain": [
       "<Figure size 800x400 with 1 Axes>"
      ],
      "image/png": "[encoded data removed]"
     },
     "metadata": {},
     "output_type": "display_data"
    },
    {
     "name": "stdout",
     "output_type": "stream",
     "text": [
      "Feature Selection Confusion Matrices:\n",
      "============================================================\n"
     ]
    },
    {
     "data": {
      "text/plain": [
       "<Figure size 600x400 with 2 Axes>"
      ],
      "image/png": "[encoded data removed]"
     },
     "metadata": {},
     "output_type": "display_data"
    },
    {
     "data": {
      "text/plain": [
       "<Figure size 600x400 with 2 Axes>"
      ],
      "image/png": "[encoded data removed]"
     },
     "metadata": {},
     "output_type": "display_data"
    },
    {
     "name": "stdout",
     "output_type": "stream",
     "text": [
      "run_random_forest does not perform feature selection, skipping.\n",
      "run_neural_net does not perform feature selection, skipping.\n"
     ]
    },
    {
     "data": {
      "text/plain": [
       "<Figure size 600x400 with 2 Axes>"
      ],
      "image/png": "[encoded data removed]"
     },
     "metadata": {},
     "output_type": "display_data"
    },
    {
     "data": {
      "text/plain": [
       "<Figure size 600x400 with 2 Axes>"
      ],
      "image/png": "[encoded data removed]"
     },
     "metadata": {},
     "output_type": "display_data"
    },
    {
     "name": "stdout",
     "output_type": "stream",
     "text": [
      "Analysis complete!\n"
     ]
    }
   ],
   "execution_count": 3
  },
  {
   "metadata": {
    "ExecuteTime": {
     "end_time": "2025-07-24T09:50:49.293563Z",
     "start_time": "2025-07-24T09:50:49.285387Z"
    }
   },
   "cell_type": "code",
   "source": "",
   "id": "be251963586a23cf",
   "outputs": [],
   "execution_count": null
  },
  {
   "metadata": {},
   "cell_type": "code",
   "outputs": [],
   "execution_count": null,
   "source": "",
   "id": "14d668821a802cc6"
  }
 ],
 "metadata": {
  "kernelspec": {
   "display_name": "Python 3",
   "language": "python",
   "name": "python3"
  },
  "language_info": {
   "codemirror_mode": {
    "name": "ipython",
    "version": 2
   },
   "file_extension": ".py",
   "mimetype": "text/x-python",
   "name": "python",
   "nbconvert_exporter": "python",
   "pygments_lexer": "ipython2",
   "version": "2.7.6"
  }
 },
 "nbformat": 4,
 "nbformat_minor": 5
}
