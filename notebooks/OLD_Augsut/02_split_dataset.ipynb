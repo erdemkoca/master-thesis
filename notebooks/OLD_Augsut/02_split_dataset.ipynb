{
 "cells": [
  {
   "cell_type": "code",
   "id": "initial_id",
   "metadata": {
    "collapsed": true,
    "ExecuteTime": {
     "end_time": "2025-05-15T09:07:58.797131Z",
     "start_time": "2025-05-15T09:07:58.488878Z"
    }
   },
   "source": [
    "# --- Split Dataset for Modeling (Updated) ---\n",
    "\n",
    "import pandas as pd\n",
    "import numpy as np\n",
    "from sklearn.model_selection import train_test_split\n",
    "from sklearn.preprocessing import StandardScaler\n",
    "from sklearn.impute import SimpleImputer\n",
    "import os\n",
    "\n",
    "# 1. Load cleaned dataset\n",
    "print(\"Loading cleaned dataset...\")\n",
    "df = pd.read_csv(\"../../data/processed/cleaned_framingham.csv\")\n",
    "print(f\"Dataset shape: {df.shape}\\n\")\n",
    "\n",
    "# 2. Separate features and target\n",
    "X = df.drop(columns=[\"TenYearCHD\"])\n",
    "y = df[\"TenYearCHD\"]\n",
    "\n",
    "# 3. Stratified split into Train and Test (80%/20%)\n",
    "print(\"Splitting into train/test...\")\n",
    "X_train, X_test, y_train, y_test = train_test_split(\n",
    "    X, y, test_size=0.2, stratify=y, random_state=42\n",
    ")\n",
    "\n",
    "print(f\"Train shape: {X_train.shape}\")\n",
    "print(f\"Test shape: {X_test.shape}\\n\")\n",
    "\n",
    "# 4. Identify continuous features\n",
    "continuous_features = ['age', 'cigsPerDay', 'totChol', 'sysBP', 'diaBP', 'BMI', 'heartRate', 'glucose']\n",
    "\n",
    "# 5. Impute missing values (fit on train only)\n",
    "print(\"Imputing missing values...\")\n",
    "\n",
    "# Use median imputer for continuous features\n",
    "median_imputer = SimpleImputer(strategy='median')\n",
    "X_train[continuous_features] = median_imputer.fit_transform(X_train[continuous_features])\n",
    "X_test[continuous_features] = median_imputer.transform(X_test[continuous_features])\n",
    "\n",
    "# For categorical features (if you have any categorical columns)\n",
    "# Here we are assuming you might want to apply mode imputation for categorical features,\n",
    "# just replace with your list of categorical features if needed.\n",
    "categorical_features = ['male', 'education', 'currentSmoker', 'BPMeds', 'prevalentStroke', 'prevalentHyp', 'diabetes']\n",
    "mode_imputer = SimpleImputer(strategy='most_frequent')\n",
    "X_train[categorical_features] = mode_imputer.fit_transform(X_train[categorical_features])\n",
    "X_test[categorical_features] = mode_imputer.transform(X_test[categorical_features])\n",
    "\n",
    "# 6. Standard scaling for continuous features (fit on train only)\n",
    "print(\"Scaling continuous features...\")\n",
    "scaler = StandardScaler()\n",
    "X_train[continuous_features] = scaler.fit_transform(X_train[continuous_features])\n",
    "X_test[continuous_features] = scaler.transform(X_test[continuous_features])\n",
    "\n",
    "print(\"Scaling complete.\\n\")\n",
    "\n",
    "# 7. Create splits directory if not exists\n",
    "os.makedirs(\"../../data/splits\", exist_ok=True)\n",
    "\n",
    "# 8. Save datasets as .npy files\n",
    "print(\"Saving split datasets...\")\n",
    "np.save(\"../../data/splits/X_train.npy\", X_train.values)\n",
    "np.save(\"../../data/splits/y_train.npy\", y_train.values)\n",
    "\n",
    "np.save(\"../../data/splits/X_test.npy\", X_test.values)\n",
    "np.save(\"../../data/splits/y_test.npy\", y_test.values)\n",
    "\n",
    "print(\"All splits saved successfully!\")\n"
   ],
   "outputs": [
    {
     "name": "stdout",
     "output_type": "stream",
     "text": [
      "Loading cleaned dataset...\n",
      "Dataset shape: (4240, 16)\n",
      "\n",
      "Splitting into train/test...\n",
      "Train shape: (3392, 15)\n",
      "Test shape: (848, 15)\n",
      "\n",
      "Imputing missing values...\n",
      "Scaling continuous features...\n",
      "Scaling complete.\n",
      "\n",
      "Saving split datasets...\n",
      "All splits saved successfully!\n"
     ]
    }
   ],
   "execution_count": 4
  },
  {
   "metadata": {},
   "cell_type": "code",
   "outputs": [],
   "execution_count": null,
   "source": "",
   "id": "e6a86f0070d1fc3f"
  }
 ],
 "metadata": {
  "kernelspec": {
   "display_name": "Python 3",
   "language": "python",
   "name": "python3"
  },
  "language_info": {
   "codemirror_mode": {
    "name": "ipython",
    "version": 2
   },
   "file_extension": ".py",
   "mimetype": "text/x-python",
   "name": "python",
   "nbconvert_exporter": "python",
   "pygments_lexer": "ipython2",
   "version": "2.7.6"
  }
 },
 "nbformat": 4,
 "nbformat_minor": 5
}
